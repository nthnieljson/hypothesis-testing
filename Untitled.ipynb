{
 "cells": [
  {
   "cell_type": "code",
   "execution_count": 135,
   "id": "c50a1379",
   "metadata": {},
   "outputs": [],
   "source": [
    "# import dependencies\n",
    "import pandas as pd\n",
    "import matplotlib.pyplot as plt\n",
    "import seaborn as sns\n",
    "import math\n",
    "from IPython.display import Markdown, display\n",
    "from scipy.stats import normaltest, norm\n",
    "\n",
    "# displaying markdown for documentation\n",
    "def displayMarkdown(text):\n",
    "    display(Markdown(text))"
   ]
  },
  {
   "cell_type": "code",
   "execution_count": 20,
   "id": "a309d600",
   "metadata": {},
   "outputs": [
    {
     "data": {
      "text/markdown": [
       "\n",
       "# Tubes 1 IF 2220 Probabilitas dan Statistika\n",
       "\n",
       "Dibuat oleh:  \n",
       "Stefanus 13519101  \n",
       "Nathaniel Jason 13519108  \n",
       "\n",
       "### Soal\n",
       "1. Menulis deskripsi statistika (Descriptive Statistics) dari semua kolom pada data yang bersifat\n",
       "numerik, terdiri dari mean, median, modus, standar deviasi, variansi, range, nilai minimum,\n",
       "maksimum, kuartil, IQR, skewness dan kurtosis. Boleh juga ditambahkan deskripsi lain.  \n",
       "2. Membuat Visualisasi plot distribusi, dalam bentuk histogram dan boxplot untuk setiap\n",
       "kolom numerik. Berikan uraian penjelasan kondisi setiap kolom berdasarkan kedua plot\n",
       "tersebut.  \n",
       "3. Menentukan setiap kolom numerik berdistribusi normal atau tidak. Gunakan normality test\n",
       "yang dikaitkan dengan histogram plot.  \n",
       "4. Melakukan test hipotesis 1 sampel, dengan menuliskan 6 langkah testing dan menampilkan\n",
       "juga boxplotnya untuk kolom/bagian yang bersesuaian.  \n",
       "    a. Nilai rata-rata Daerah di atas 4700?  \n",
       "    b. Nilai Rata-rata Sumbu Utama tidak sama dengan 116?  \n",
       "    c. Nilai Rata-rata 20 baris pertama kolom Sumbu Kecil bukan 50?  \n",
       "    d. Proporsi nilai Diameter yang lebih dari 85, adalah tidak sama dengan 15% ?  \n",
       "    e. Proporsi nilai Keliling yang kurang dari 100, adalah kurang dari 5% ?  \n",
       "5. Melakukan test hipotesis 2 sampel, dengan menuliskan 6 langkah testing dan menampilkan\n",
       "juga boxplotnya untuk kolom/bagian yang bersesuaian.  \n",
       "    a. Data kolom AreaBulatan dibagi 2 sama rata: bagian awal dan bagian akhir kolom.  \n",
       "    Benarkah rata-rata kedua bagian tersebut sama?  \n",
       "    b. Data kolom Kadar Air dibagi 2 sama rata: bagian awal dan bagian akhir kolom. Benarkah  \n",
       "    rata-rata bagian awal lebih besar dari pada bagian akhir sebesar 0.2?  \n",
       "    c. Rata-rata 20 baris pertama kolom Bulatan sama dengan 20 baris terakhirnya?  \n",
       "    d. Proporsi nilai bagian awal Ransum yang lebih dari 2, adalah lebih besar daripada,  \n",
       "    proporsi nilai yang sama di bagian akhir Ransum?  \n",
       "    e. Bagian awal kolom Diameter memiliki variansi yang sama dengan bagian akhirnya?  \n",
       "6. Test korelasi: tentukan apakah setiap kolom non-target berkorelasi dengan kolom target,  \n",
       "dengan menggambarkan juga scatter plot nya. Gunakan correlation test.  \n"
      ],
      "text/plain": [
       "<IPython.core.display.Markdown object>"
      ]
     },
     "metadata": {},
     "output_type": "display_data"
    }
   ],
   "source": [
    "# Introduction\n",
    "\n",
    "introdcutionText = \"\"\"\n",
    "# Tubes 1 IF 2220 Probabilitas dan Statistika\n",
    "\n",
    "Dibuat oleh:  \n",
    "Stefanus 13519101  \n",
    "Nathaniel Jason 13519108  \n",
    "\n",
    "### Soal\n",
    "1. Menulis deskripsi statistika (Descriptive Statistics) dari semua kolom pada data yang bersifat\n",
    "numerik, terdiri dari mean, median, modus, standar deviasi, variansi, range, nilai minimum,\n",
    "maksimum, kuartil, IQR, skewness dan kurtosis. Boleh juga ditambahkan deskripsi lain.  \n",
    "2. Membuat Visualisasi plot distribusi, dalam bentuk histogram dan boxplot untuk setiap\n",
    "kolom numerik. Berikan uraian penjelasan kondisi setiap kolom berdasarkan kedua plot\n",
    "tersebut.  \n",
    "3. Menentukan setiap kolom numerik berdistribusi normal atau tidak. Gunakan normality test\n",
    "yang dikaitkan dengan histogram plot.  \n",
    "4. Melakukan test hipotesis 1 sampel, dengan menuliskan 6 langkah testing dan menampilkan\n",
    "juga boxplotnya untuk kolom/bagian yang bersesuaian.  \n",
    "    a. Nilai rata-rata Daerah di atas 4700?  \n",
    "    b. Nilai Rata-rata Sumbu Utama tidak sama dengan 116?  \n",
    "    c. Nilai Rata-rata 20 baris pertama kolom Sumbu Kecil bukan 50?  \n",
    "    d. Proporsi nilai Diameter yang lebih dari 85, adalah tidak sama dengan 15% ?  \n",
    "    e. Proporsi nilai Keliling yang kurang dari 100, adalah kurang dari 5% ?  \n",
    "5. Melakukan test hipotesis 2 sampel, dengan menuliskan 6 langkah testing dan menampilkan\n",
    "juga boxplotnya untuk kolom/bagian yang bersesuaian.  \n",
    "    a. Data kolom AreaBulatan dibagi 2 sama rata: bagian awal dan bagian akhir kolom.  \n",
    "    Benarkah rata-rata kedua bagian tersebut sama?  \n",
    "    b. Data kolom Kadar Air dibagi 2 sama rata: bagian awal dan bagian akhir kolom. Benarkah  \n",
    "    rata-rata bagian awal lebih besar dari pada bagian akhir sebesar 0.2?  \n",
    "    c. Rata-rata 20 baris pertama kolom Bulatan sama dengan 20 baris terakhirnya?  \n",
    "    d. Proporsi nilai bagian awal Ransum yang lebih dari 2, adalah lebih besar daripada,  \n",
    "    proporsi nilai yang sama di bagian akhir Ransum?  \n",
    "    e. Bagian awal kolom Diameter memiliki variansi yang sama dengan bagian akhirnya?  \n",
    "6. Test korelasi: tentukan apakah setiap kolom non-target berkorelasi dengan kolom target,  \n",
    "dengan menggambarkan juga scatter plot nya. Gunakan correlation test.  \n",
    "\"\"\"\n",
    "\n",
    "displayMarkdown(introdcutionText)"
   ]
  },
  {
   "cell_type": "code",
   "execution_count": 25,
   "id": "a5d0de4c",
   "metadata": {},
   "outputs": [
    {
     "data": {
      "text/markdown": [
       "\n",
       "## Setup dataframe\n"
      ],
      "text/plain": [
       "<IPython.core.display.Markdown object>"
      ]
     },
     "metadata": {},
     "output_type": "display_data"
    },
    {
     "data": {
      "text/html": [
       "<div>\n",
       "<style scoped>\n",
       "    .dataframe tbody tr th:only-of-type {\n",
       "        vertical-align: middle;\n",
       "    }\n",
       "\n",
       "    .dataframe tbody tr th {\n",
       "        vertical-align: top;\n",
       "    }\n",
       "\n",
       "    .dataframe thead th {\n",
       "        text-align: right;\n",
       "    }\n",
       "</style>\n",
       "<table border=\"1\" class=\"dataframe\">\n",
       "  <thead>\n",
       "    <tr style=\"text-align: right;\">\n",
       "      <th></th>\n",
       "      <th>ID</th>\n",
       "      <th>Daerah</th>\n",
       "      <th>SumbuUtama</th>\n",
       "      <th>SumbuKecil</th>\n",
       "      <th>Keunikan</th>\n",
       "      <th>AreaBulatan</th>\n",
       "      <th>Diameter</th>\n",
       "      <th>KadarAir</th>\n",
       "      <th>Keliling</th>\n",
       "      <th>Bulatan</th>\n",
       "      <th>Ransum</th>\n",
       "      <th>Target</th>\n",
       "    </tr>\n",
       "  </thead>\n",
       "  <tbody>\n",
       "    <tr>\n",
       "      <th>0</th>\n",
       "      <td>1</td>\n",
       "      <td>5781</td>\n",
       "      <td>128.288875</td>\n",
       "      <td>58.470846</td>\n",
       "      <td>0.890095</td>\n",
       "      <td>5954</td>\n",
       "      <td>85.793926</td>\n",
       "      <td>0.674090</td>\n",
       "      <td>316.756</td>\n",
       "      <td>0.724041</td>\n",
       "      <td>2.194066</td>\n",
       "      <td>1</td>\n",
       "    </tr>\n",
       "    <tr>\n",
       "      <th>1</th>\n",
       "      <td>2</td>\n",
       "      <td>4176</td>\n",
       "      <td>109.348294</td>\n",
       "      <td>49.837688</td>\n",
       "      <td>0.890098</td>\n",
       "      <td>4277</td>\n",
       "      <td>72.918093</td>\n",
       "      <td>0.596231</td>\n",
       "      <td>260.346</td>\n",
       "      <td>0.774227</td>\n",
       "      <td>2.194088</td>\n",
       "      <td>1</td>\n",
       "    </tr>\n",
       "    <tr>\n",
       "      <th>2</th>\n",
       "      <td>3</td>\n",
       "      <td>4555</td>\n",
       "      <td>114.427991</td>\n",
       "      <td>52.151207</td>\n",
       "      <td>0.890105</td>\n",
       "      <td>4706</td>\n",
       "      <td>76.155145</td>\n",
       "      <td>0.776641</td>\n",
       "      <td>279.606</td>\n",
       "      <td>0.732159</td>\n",
       "      <td>2.194158</td>\n",
       "      <td>1</td>\n",
       "    </tr>\n",
       "    <tr>\n",
       "      <th>3</th>\n",
       "      <td>4</td>\n",
       "      <td>4141</td>\n",
       "      <td>108.701190</td>\n",
       "      <td>49.457349</td>\n",
       "      <td>0.890499</td>\n",
       "      <td>4236</td>\n",
       "      <td>72.611879</td>\n",
       "      <td>0.633180</td>\n",
       "      <td>260.478</td>\n",
       "      <td>0.766961</td>\n",
       "      <td>2.197877</td>\n",
       "      <td>1</td>\n",
       "    </tr>\n",
       "    <tr>\n",
       "      <th>4</th>\n",
       "      <td>5</td>\n",
       "      <td>5273</td>\n",
       "      <td>122.747868</td>\n",
       "      <td>55.757848</td>\n",
       "      <td>0.890876</td>\n",
       "      <td>5431</td>\n",
       "      <td>81.937733</td>\n",
       "      <td>0.669842</td>\n",
       "      <td>302.730</td>\n",
       "      <td>0.723031</td>\n",
       "      <td>2.201446</td>\n",
       "      <td>1</td>\n",
       "    </tr>\n",
       "  </tbody>\n",
       "</table>\n",
       "</div>"
      ],
      "text/plain": [
       "   ID  Daerah  SumbuUtama  SumbuKecil  Keunikan  AreaBulatan   Diameter  \\\n",
       "0   1    5781  128.288875   58.470846  0.890095         5954  85.793926   \n",
       "1   2    4176  109.348294   49.837688  0.890098         4277  72.918093   \n",
       "2   3    4555  114.427991   52.151207  0.890105         4706  76.155145   \n",
       "3   4    4141  108.701190   49.457349  0.890499         4236  72.611879   \n",
       "4   5    5273  122.747868   55.757848  0.890876         5431  81.937733   \n",
       "\n",
       "   KadarAir  Keliling   Bulatan    Ransum  Target  \n",
       "0  0.674090   316.756  0.724041  2.194066       1  \n",
       "1  0.596231   260.346  0.774227  2.194088       1  \n",
       "2  0.776641   279.606  0.732159  2.194158       1  \n",
       "3  0.633180   260.478  0.766961  2.197877       1  \n",
       "4  0.669842   302.730  0.723031  2.201446       1  "
      ]
     },
     "execution_count": 25,
     "metadata": {},
     "output_type": "execute_result"
    }
   ],
   "source": [
    "setupText = \"\"\"\n",
    "## Setup dataframe\n",
    "\"\"\"\n",
    "\n",
    "displayMarkdown(setupText)\n",
    "\n",
    "datasetGandumFilename = \"Gandum.csv\"\n",
    "columnNamesGandum = [\n",
    "    \"ID\", \n",
    "    \"Daerah\", \n",
    "    \"SumbuUtama\", \n",
    "    \"SumbuKecil\", \n",
    "    \"Keunikan\", \n",
    "    \"AreaBulatan\", \n",
    "    \"Diameter\", \n",
    "    \"KadarAir\", \n",
    "    \"Keliling\", \n",
    "    \"Bulatan\", \n",
    "    \"Ransum\", \n",
    "    \"Target\"\n",
    "]\n",
    "dfGandum = pd.read_csv(f\"./{datasetFilename}\", names = columnNamesGandum)\n",
    "\n",
    "dfGandum.head()\n"
   ]
  },
  {
   "cell_type": "code",
   "execution_count": 84,
   "id": "9be3216e",
   "metadata": {},
   "outputs": [
    {
     "data": {
      "text/markdown": [
       "\n",
       "## Soal 2\n",
       "Membuat Visualisasi plot distribusi, dalam bentuk histogram dan boxplot untuk setiap kolom numerik. Berikan uraian penjelasan kondisi setiap kolom berdasarkan kedua plot tersebut.\n"
      ],
      "text/plain": [
       "<IPython.core.display.Markdown object>"
      ]
     },
     "metadata": {},
     "output_type": "display_data"
    }
   ],
   "source": [
    "soal2Text = \"\"\"\n",
    "## Soal 2\n",
    "Membuat Visualisasi plot distribusi, dalam bentuk histogram dan boxplot untuk setiap kolom numerik. Berikan uraian penjelasan kondisi setiap kolom berdasarkan kedua plot tersebut.\n",
    "\"\"\"\n",
    "\n",
    "displayMarkdown(soal2Text)"
   ]
  },
  {
   "cell_type": "code",
   "execution_count": 71,
   "id": "bd9bb358",
   "metadata": {},
   "outputs": [
    {
     "data": {
      "text/markdown": [
       "\n",
       "### ID\n",
       "Distribusi kolom ID adalah distribusi uniform\n"
      ],
      "text/plain": [
       "<IPython.core.display.Markdown object>"
      ]
     },
     "metadata": {},
     "output_type": "display_data"
    },
    {
     "data": {
      "image/png": "[encoded data removed]",
      "text/plain": [
       "<Figure size 432x288 with 1 Axes>"
      ]
     },
     "metadata": {
      "needs_background": "light"
     },
     "output_type": "display_data"
    },
    {
     "data": {
      "text/plain": [
       "<AxesSubplot:>"
      ]
     },
     "execution_count": 71,
     "metadata": {},
     "output_type": "execute_result"
    },
    {
     "data": {
      "image/png": "[encoded data removed]",
      "text/plain": [
       "<Figure size 432x288 with 1 Axes>"
      ]
     },
     "metadata": {
      "needs_background": "light"
     },
     "output_type": "display_data"
    }
   ],
   "source": [
    "columnName = \"ID\"\n",
    "\n",
    "soal2VisualisationDescriptionText = f\"\"\"\n",
    "### {columnName}\n",
    "Distribusi kolom {columnName} adalah distribusi uniform\n",
    "\"\"\"\n",
    "displayMarkdown(soal2VisualisationDescriptionText)\n",
    "\n",
    "plt.hist(dfGandum[columnName])\n",
    "plt.show()\n",
    "dfGandum.boxplot(columnName)"
   ]
  },
  {
   "cell_type": "code",
   "execution_count": 72,
   "id": "9447412e",
   "metadata": {},
   "outputs": [
    {
     "data": {
      "text/markdown": [
       "\n",
       "### Daerah\n",
       "Distribusi kolom Daerah adalah cenderung distribusi normal. Tidak tampak outlier pada boxplot\n"
      ],
      "text/plain": [
       "<IPython.core.display.Markdown object>"
      ]
     },
     "metadata": {},
     "output_type": "display_data"
    },
    {
     "data": {
      "image/png": "[encoded data removed]",
      "text/plain": [
       "<Figure size 432x288 with 1 Axes>"
      ]
     },
     "metadata": {
      "needs_background": "light"
     },
     "output_type": "display_data"
    },
    {
     "data": {
      "text/plain": [
       "<AxesSubplot:>"
      ]
     },
     "execution_count": 72,
     "metadata": {},
     "output_type": "execute_result"
    },
    {
     "data": {
      "image/png": "[encoded data removed]",
      "text/plain": [
       "<Figure size 432x288 with 1 Axes>"
      ]
     },
     "metadata": {
      "needs_background": "light"
     },
     "output_type": "display_data"
    }
   ],
   "source": [
    "columnName = \"Daerah\"\n",
    "\n",
    "soal2VisualisationDescriptionText = f\"\"\"\n",
    "### {columnName}\n",
    "Distribusi kolom {columnName} adalah cenderung distribusi normal. Tidak tampak outlier pada boxplot\n",
    "\"\"\"\n",
    "displayMarkdown(soal2VisualisationDescriptionText)\n",
    "\n",
    "plt.hist(dfGandum[columnName])\n",
    "plt.show()\n",
    "dfGandum.boxplot(columnName)"
   ]
  },
  {
   "cell_type": "code",
   "execution_count": 73,
   "id": "2ce14d96",
   "metadata": {},
   "outputs": [
    {
     "data": {
      "text/markdown": [
       "\n",
       "### SumbuUtama\n",
       "Distribusi kolom SumbuUtama adalah cenderung distribusi normal. Terdapat outlier di boxplot pada 220\n"
      ],
      "text/plain": [
       "<IPython.core.display.Markdown object>"
      ]
     },
     "metadata": {},
     "output_type": "display_data"
    },
    {
     "data": {
      "image/png": "[encoded data removed]",
      "text/plain": [
       "<Figure size 432x288 with 1 Axes>"
      ]
     },
     "metadata": {
      "needs_background": "light"
     },
     "output_type": "display_data"
    },
    {
     "data": {
      "text/plain": [
       "<AxesSubplot:>"
      ]
     },
     "execution_count": 73,
     "metadata": {},
     "output_type": "execute_result"
    },
    {
     "data": {
      "image/png": "[encoded data removed]",
      "text/plain": [
       "<Figure size 432x288 with 1 Axes>"
      ]
     },
     "metadata": {
      "needs_background": "light"
     },
     "output_type": "display_data"
    }
   ],
   "source": [
    "columnName = \"SumbuUtama\"\n",
    "\n",
    "soal2VisualisationDescriptionText = f\"\"\"\n",
    "### {columnName}\n",
    "Distribusi kolom {columnName} adalah cenderung distribusi normal. Terdapat outlier di boxplot pada sekitar 220\n",
    "\"\"\"\n",
    "displayMarkdown(soal2VisualisationDescriptionText)\n",
    "\n",
    "plt.hist(dfGandum[columnName])\n",
    "plt.show()\n",
    "dfGandum.boxplot(columnName)"
   ]
  },
  {
   "cell_type": "code",
   "execution_count": 74,
   "id": "65bc67d0",
   "metadata": {},
   "outputs": [
    {
     "data": {
      "text/markdown": [
       "\n",
       "### SumbuKecil\n",
       "Distribusi kolom SumbuKecil terlihat seperti distribusi normal. Terdapat outlier pada range 40 sampai 45 dan  \n",
       "pada sekitar 65 dan 70\n"
      ],
      "text/plain": [
       "<IPython.core.display.Markdown object>"
      ]
     },
     "metadata": {},
     "output_type": "display_data"
    },
    {
     "data": {
      "image/png": "[encoded data removed]",
      "text/plain": [
       "<Figure size 432x288 with 1 Axes>"
      ]
     },
     "metadata": {
      "needs_background": "light"
     },
     "output_type": "display_data"
    },
    {
     "data": {
      "text/plain": [
       "<AxesSubplot:>"
      ]
     },
     "execution_count": 74,
     "metadata": {},
     "output_type": "execute_result"
    },
    {
     "data": {
      "image/png": "[encoded data removed]",
      "text/plain": [
       "<Figure size 432x288 with 1 Axes>"
      ]
     },
     "metadata": {
      "needs_background": "light"
     },
     "output_type": "display_data"
    }
   ],
   "source": [
    "columnName = \"SumbuKecil\"\n",
    "\n",
    "soal2VisualisationDescriptionText = f\"\"\"\n",
    "### {columnName}\n",
    "Distribusi kolom {columnName} terlihat seperti distribusi normal. Terdapat outlier pada range 40 sampai 45 dan  \n",
    "pada sekitar 65 dan 70\n",
    "\"\"\"\n",
    "displayMarkdown(soal2VisualisationDescriptionText)\n",
    "\n",
    "plt.hist(dfGandum[columnName])\n",
    "plt.show()\n",
    "dfGandum.boxplot(columnName)"
   ]
  },
  {
   "cell_type": "code",
   "execution_count": 75,
   "id": "024e89d3",
   "metadata": {},
   "outputs": [
    {
     "data": {
      "text/markdown": [
       "\n",
       "### Keunikan\n",
       "Distribusi kolom Keunikan terlihat seperti distribusi half-normal terbalik. Terdapat banyak outlier pada boxplot.  \n",
       "Data banyak yang ada dibawah kuartil pertama dikurangi satu setengah kuartil range. \n"
      ],
      "text/plain": [
       "<IPython.core.display.Markdown object>"
      ]
     },
     "metadata": {},
     "output_type": "display_data"
    },
    {
     "data": {
      "image/png": "[encoded data removed]",
      "text/plain": [
       "<Figure size 432x288 with 1 Axes>"
      ]
     },
     "metadata": {
      "needs_background": "light"
     },
     "output_type": "display_data"
    },
    {
     "data": {
      "text/plain": [
       "<AxesSubplot:>"
      ]
     },
     "execution_count": 75,
     "metadata": {},
     "output_type": "execute_result"
    },
    {
     "data": {
      "image/png": "[encoded data removed]",
      "text/plain": [
       "<Figure size 432x288 with 1 Axes>"
      ]
     },
     "metadata": {
      "needs_background": "light"
     },
     "output_type": "display_data"
    }
   ],
   "source": [
    "columnName = \"Keunikan\"\n",
    "\n",
    "soal2VisualisationDescriptionText = f\"\"\"\n",
    "### {columnName}\n",
    "Distribusi kolom {columnName} terlihat seperti distribusi half-normal terbalik. Terdapat banyak outlier pada boxplot.  \n",
    "Data banyak yang ada dibawah kuartil pertama dikurangi satu setengah kuartil range. \n",
    "\"\"\"\n",
    "displayMarkdown(soal2VisualisationDescriptionText)\n",
    "\n",
    "plt.hist(dfGandum[columnName])\n",
    "plt.show()\n",
    "dfGandum.boxplot(columnName)"
   ]
  },
  {
   "cell_type": "code",
   "execution_count": 76,
   "id": "f990fb15",
   "metadata": {},
   "outputs": [
    {
     "data": {
      "text/markdown": [
       "\n",
       "### AreaBulatan\n",
       "Distribusi kolom AreaBulatan adalah normal. Tidak terdapat outlier pada boxplot.  \n",
       "Skewness bernilai cenderung positif dan varians bernilai cenderung tinggi.\n"
      ],
      "text/plain": [
       "<IPython.core.display.Markdown object>"
      ]
     },
     "metadata": {},
     "output_type": "display_data"
    },
    {
     "data": {
      "image/png": "[encoded data removed]",
      "text/plain": [
       "<Figure size 432x288 with 1 Axes>"
      ]
     },
     "metadata": {
      "needs_background": "light"
     },
     "output_type": "display_data"
    },
    {
     "data": {
      "text/plain": [
       "<AxesSubplot:>"
      ]
     },
     "execution_count": 76,
     "metadata": {},
     "output_type": "execute_result"
    },
    {
     "data": {
      "image/png": "[encoded data removed]",
      "text/plain": [
       "<Figure size 432x288 with 1 Axes>"
      ]
     },
     "metadata": {
      "needs_background": "light"
     },
     "output_type": "display_data"
    }
   ],
   "source": [
    "columnName = \"AreaBulatan\"\n",
    "\n",
    "soal2VisualisationDescriptionText = f\"\"\"\n",
    "### {columnName}\n",
    "Distribusi kolom {columnName} adalah normal. Tidak terdapat outlier pada boxplot.  \n",
    "Skewness bernilai cenderung positif dan varians bernilai cenderung tinggi.\n",
    "\"\"\"\n",
    "displayMarkdown(soal2VisualisationDescriptionText)\n",
    "\n",
    "plt.hist(dfGandum[columnName])\n",
    "plt.show()\n",
    "dfGandum.boxplot(columnName)"
   ]
  },
  {
   "cell_type": "code",
   "execution_count": 77,
   "id": "d28bbaec",
   "metadata": {},
   "outputs": [
    {
     "data": {
      "text/markdown": [
       "\n",
       "### Diameter\n",
       "Distribusi kolom Diameter adalah distribusi normal. Tidak ada outlier pada boxplot.  \n",
       "Standar deviasi memiliki nilai yang cenderung besar.\n"
      ],
      "text/plain": [
       "<IPython.core.display.Markdown object>"
      ]
     },
     "metadata": {},
     "output_type": "display_data"
    },
    {
     "data": {
      "image/png": "[encoded data removed]",
      "text/plain": [
       "<Figure size 432x288 with 1 Axes>"
      ]
     },
     "metadata": {
      "needs_background": "light"
     },
     "output_type": "display_data"
    },
    {
     "data": {
      "text/plain": [
       "<AxesSubplot:>"
      ]
     },
     "execution_count": 77,
     "metadata": {},
     "output_type": "execute_result"
    },
    {
     "data": {
      "image/png": "[encoded data removed]",
      "text/plain": [
       "<Figure size 432x288 with 1 Axes>"
      ]
     },
     "metadata": {
      "needs_background": "light"
     },
     "output_type": "display_data"
    }
   ],
   "source": [
    "columnName = \"Diameter\"\n",
    "\n",
    "soal2VisualisationDescriptionText = f\"\"\"\n",
    "### {columnName}\n",
    "Distribusi kolom {columnName} adalah distribusi normal. Tidak ada outlier pada boxplot.  \n",
    "Standar deviasi memiliki nilai yang cenderung besar.\n",
    "\"\"\"\n",
    "displayMarkdown(soal2VisualisationDescriptionText)\n",
    "\n",
    "plt.hist(dfGandum[columnName])\n",
    "plt.show()\n",
    "dfGandum.boxplot(columnName)"
   ]
  },
  {
   "cell_type": "code",
   "execution_count": 78,
   "id": "b7fa2cd5",
   "metadata": {},
   "outputs": [
    {
     "data": {
      "text/markdown": [
       "\n",
       "### KadarAir\n",
       "Distribusi kolom KadarAir terlihat seperti distribusi gamma. Tidak terdapat outlier pada boxplot.\n"
      ],
      "text/plain": [
       "<IPython.core.display.Markdown object>"
      ]
     },
     "metadata": {},
     "output_type": "display_data"
    },
    {
     "data": {
      "image/png": "[encoded data removed]",
      "text/plain": [
       "<Figure size 432x288 with 1 Axes>"
      ]
     },
     "metadata": {
      "needs_background": "light"
     },
     "output_type": "display_data"
    },
    {
     "data": {
      "text/plain": [
       "<AxesSubplot:>"
      ]
     },
     "execution_count": 78,
     "metadata": {},
     "output_type": "execute_result"
    },
    {
     "data": {
      "image/png": "[encoded data removed]",
      "text/plain": [
       "<Figure size 432x288 with 1 Axes>"
      ]
     },
     "metadata": {
      "needs_background": "light"
     },
     "output_type": "display_data"
    }
   ],
   "source": [
    "columnName = \"KadarAir\"\n",
    "\n",
    "soal2VisualisationDescriptionText = f\"\"\"\n",
    "### {columnName}\n",
    "Distribusi kolom {columnName} terlihat seperti distribusi gamma. Tidak terdapat outlier pada boxplot.\n",
    "\"\"\"\n",
    "displayMarkdown(soal2VisualisationDescriptionText)\n",
    "\n",
    "plt.hist(dfGandum[columnName])\n",
    "plt.show()\n",
    "dfGandum.boxplot(columnName)"
   ]
  },
  {
   "cell_type": "code",
   "execution_count": 79,
   "id": "4a635801",
   "metadata": {},
   "outputs": [
    {
     "data": {
      "text/markdown": [
       "\n",
       "### Keliling\n",
       "Distribusi kolom Keliling adalah cenderung distribusi normal. Terdapat outlier pada boxplot.\n"
      ],
      "text/plain": [
       "<IPython.core.display.Markdown object>"
      ]
     },
     "metadata": {},
     "output_type": "display_data"
    },
    {
     "data": {
      "image/png": "[encoded data removed]",
      "text/plain": [
       "<Figure size 432x288 with 1 Axes>"
      ]
     },
     "metadata": {
      "needs_background": "light"
     },
     "output_type": "display_data"
    },
    {
     "data": {
      "text/plain": [
       "<AxesSubplot:>"
      ]
     },
     "execution_count": 79,
     "metadata": {},
     "output_type": "execute_result"
    },
    {
     "data": {
      "image/png": "[encoded data removed]",
      "text/plain": [
       "<Figure size 432x288 with 1 Axes>"
      ]
     },
     "metadata": {
      "needs_background": "light"
     },
     "output_type": "display_data"
    }
   ],
   "source": [
    "columnName = \"Keliling\"\n",
    "\n",
    "soal2VisualisationDescriptionText = f\"\"\"\n",
    "### {columnName}\n",
    "Distribusi kolom {columnName} adalah cenderung distribusi normal. Terdapat outlier pada boxplot.\n",
    "\"\"\"\n",
    "displayMarkdown(soal2VisualisationDescriptionText)\n",
    "\n",
    "plt.hist(dfGandum[columnName])\n",
    "plt.show()\n",
    "dfGandum.boxplot(columnName)"
   ]
  },
  {
   "cell_type": "code",
   "execution_count": 80,
   "id": "ee889d23",
   "metadata": {},
   "outputs": [
    {
     "data": {
      "text/markdown": [
       "\n",
       "### Bulatan\n",
       "Distribusi kolom Bulatan tampak seperti distribusi normal. Terdapat outlier pada boxplot.  \n",
       "Standar deviasi berniali cenderung besar.\n"
      ],
      "text/plain": [
       "<IPython.core.display.Markdown object>"
      ]
     },
     "metadata": {},
     "output_type": "display_data"
    },
    {
     "data": {
      "image/png": "[encoded data removed]",
      "text/plain": [
       "<Figure size 432x288 with 1 Axes>"
      ]
     },
     "metadata": {
      "needs_background": "light"
     },
     "output_type": "display_data"
    },
    {
     "data": {
      "text/plain": [
       "<AxesSubplot:>"
      ]
     },
     "execution_count": 80,
     "metadata": {},
     "output_type": "execute_result"
    },
    {
     "data": {
      "image/png": "[encoded data removed]",
      "text/plain": [
       "<Figure size 432x288 with 1 Axes>"
      ]
     },
     "metadata": {
      "needs_background": "light"
     },
     "output_type": "display_data"
    }
   ],
   "source": [
    "columnName = \"Bulatan\"\n",
    "\n",
    "soal2VisualisationDescriptionText = f\"\"\"\n",
    "### {columnName}\n",
    "Distribusi kolom {columnName} tampak seperti distribusi normal. Terdapat outlier pada boxplot.  \n",
    "Standar deviasi berniali cenderung besar.\n",
    "\"\"\"\n",
    "displayMarkdown(soal2VisualisationDescriptionText)\n",
    "\n",
    "plt.hist(dfGandum[columnName])\n",
    "plt.show()\n",
    "dfGandum.boxplot(columnName)"
   ]
  },
  {
   "cell_type": "code",
   "execution_count": 81,
   "id": "436596e4",
   "metadata": {},
   "outputs": [
    {
     "data": {
      "text/markdown": [
       "\n",
       "### Ransum\n",
       "Distribusi kolom Ransum adalah cenderung distribusi half-normal terbalik. Tidak terdapat outlier pada boxplot\n"
      ],
      "text/plain": [
       "<IPython.core.display.Markdown object>"
      ]
     },
     "metadata": {},
     "output_type": "display_data"
    },
    {
     "data": {
      "image/png": "[encoded data removed]",
      "text/plain": [
       "<Figure size 432x288 with 1 Axes>"
      ]
     },
     "metadata": {
      "needs_background": "light"
     },
     "output_type": "display_data"
    },
    {
     "data": {
      "text/plain": [
       "<AxesSubplot:>"
      ]
     },
     "execution_count": 81,
     "metadata": {},
     "output_type": "execute_result"
    },
    {
     "data": {
      "image/png": "[encoded data removed]",
      "text/plain": [
       "<Figure size 432x288 with 1 Axes>"
      ]
     },
     "metadata": {
      "needs_background": "light"
     },
     "output_type": "display_data"
    }
   ],
   "source": [
    "columnName = \"Ransum\"\n",
    "\n",
    "soal2VisualisationDescriptionText = f\"\"\"\n",
    "### {columnName}\n",
    "Distribusi kolom {columnName} adalah cenderung distribusi half-normal terbalik. Tidak terdapat outlier pada boxplot\n",
    "\"\"\"\n",
    "displayMarkdown(soal2VisualisationDescriptionText)\n",
    "\n",
    "plt.hist(dfGandum[columnName])\n",
    "plt.show()\n",
    "dfGandum.boxplot(columnName)"
   ]
  },
  {
   "cell_type": "code",
   "execution_count": 83,
   "id": "a79eed45",
   "metadata": {},
   "outputs": [
    {
     "data": {
      "text/markdown": [
       "\n",
       "### Target\n",
       "Distribusi kolom Target adalah distribusi diskrit Bernoulli\n"
      ],
      "text/plain": [
       "<IPython.core.display.Markdown object>"
      ]
     },
     "metadata": {},
     "output_type": "display_data"
    },
    {
     "data": {
      "image/png": "[encoded data removed]",
      "text/plain": [
       "<Figure size 432x288 with 1 Axes>"
      ]
     },
     "metadata": {
      "needs_background": "light"
     },
     "output_type": "display_data"
    },
    {
     "data": {
      "text/plain": [
       "<AxesSubplot:>"
      ]
     },
     "execution_count": 83,
     "metadata": {},
     "output_type": "execute_result"
    },
    {
     "data": {
      "image/png": "[encoded data removed]",
      "text/plain": [
       "<Figure size 432x288 with 1 Axes>"
      ]
     },
     "metadata": {
      "needs_background": "light"
     },
     "output_type": "display_data"
    }
   ],
   "source": [
    "columnName = \"Target\"\n",
    "\n",
    "soal2VisualisationDescriptionText = f\"\"\"\n",
    "### {columnName}\n",
    "Distribusi kolom {columnName} adalah distribusi diskrit Bernoulli\n",
    "\"\"\"\n",
    "displayMarkdown(soal2VisualisationDescriptionText)\n",
    "\n",
    "plt.hist(dfGandum[columnName])\n",
    "plt.show()\n",
    "dfGandum.boxplot(columnName)"
   ]
  },
  {
   "cell_type": "code",
   "execution_count": 86,
   "id": "870a21c0",
   "metadata": {},
   "outputs": [
    {
     "data": {
      "text/markdown": [
       "\n",
       "## Soal 3\n",
       "Menentukan setiap kolom numerik berdistribusi normal atau tidak. Gunakan normality test yang dikaitkan dengan histogram plot.\n"
      ],
      "text/plain": [
       "<IPython.core.display.Markdown object>"
      ]
     },
     "metadata": {},
     "output_type": "display_data"
    }
   ],
   "source": [
    "soal3Text = \"\"\"\n",
    "## Soal 3\n",
    "Menentukan setiap kolom numerik berdistribusi normal atau tidak. Gunakan normality test yang dikaitkan dengan histogram plot.\n",
    "\"\"\"\n",
    "\n",
    "displayMarkdown(soal3Text)"
   ]
  },
  {
   "cell_type": "code",
   "execution_count": 107,
   "id": "ee4759d2",
   "metadata": {},
   "outputs": [
    {
     "data": {
      "text/markdown": [
       "\n",
       "### ID\n",
       "stat = 317.4439  \n",
       "p = 0.0000  \n",
       "alpha = 0.0500  \n",
       "Kolom ID tidak berdistribusi normal\n",
       "    "
      ],
      "text/plain": [
       "<IPython.core.display.Markdown object>"
      ]
     },
     "metadata": {},
     "output_type": "display_data"
    },
    {
     "data": {
      "image/png": "[encoded data removed]",
      "text/plain": [
       "<Figure size 432x288 with 1 Axes>"
      ]
     },
     "metadata": {
      "needs_background": "light"
     },
     "output_type": "display_data"
    },
    {
     "data": {
      "text/markdown": [
       "\n",
       "### Daerah\n",
       "stat = 10.8586  \n",
       "p = 0.0044  \n",
       "alpha = 0.0500  \n",
       "Kolom Daerah tidak berdistribusi normal\n",
       "    "
      ],
      "text/plain": [
       "<IPython.core.display.Markdown object>"
      ]
     },
     "metadata": {},
     "output_type": "display_data"
    },
    {
     "data": {
      "image/png": "[encoded data removed]",
      "text/plain": [
       "<Figure size 432x288 with 1 Axes>"
      ]
     },
     "metadata": {
      "needs_background": "light"
     },
     "output_type": "display_data"
    },
    {
     "data": {
      "text/markdown": [
       "\n",
       "### SumbuUtama\n",
       "stat = 95.1201  \n",
       "p = 0.0000  \n",
       "alpha = 0.0500  \n",
       "Kolom SumbuUtama tidak berdistribusi normal\n",
       "    "
      ],
      "text/plain": [
       "<IPython.core.display.Markdown object>"
      ]
     },
     "metadata": {},
     "output_type": "display_data"
    },
    {
     "data": {
      "image/png": "[encoded data removed]",
      "text/plain": [
       "<Figure size 432x288 with 1 Axes>"
      ]
     },
     "metadata": {
      "needs_background": "light"
     },
     "output_type": "display_data"
    },
    {
     "data": {
      "text/markdown": [
       "\n",
       "### SumbuKecil\n",
       "stat = 3.6984  \n",
       "p = 0.1574  \n",
       "alpha = 0.0500  \n",
       "Kolom SumbuKecil berdistribusi normal\n",
       "    "
      ],
      "text/plain": [
       "<IPython.core.display.Markdown object>"
      ]
     },
     "metadata": {},
     "output_type": "display_data"
    },
    {
     "data": {
      "image/png": "[encoded data removed]",
      "text/plain": [
       "<Figure size 432x288 with 1 Axes>"
      ]
     },
     "metadata": {
      "needs_background": "light"
     },
     "output_type": "display_data"
    },
    {
     "data": {
      "text/markdown": [
       "\n",
       "### Keunikan\n",
       "stat = 158.6174  \n",
       "p = 0.0000  \n",
       "alpha = 0.0500  \n",
       "Kolom Keunikan tidak berdistribusi normal\n",
       "    "
      ],
      "text/plain": [
       "<IPython.core.display.Markdown object>"
      ]
     },
     "metadata": {},
     "output_type": "display_data"
    },
    {
     "data": {
      "image/png": "[encoded data removed]",
      "text/plain": [
       "<Figure size 432x288 with 1 Axes>"
      ]
     },
     "metadata": {
      "needs_background": "light"
     },
     "output_type": "display_data"
    },
    {
     "data": {
      "text/markdown": [
       "\n",
       "### AreaBulatan\n",
       "stat = 10.7387  \n",
       "p = 0.0047  \n",
       "alpha = 0.0500  \n",
       "Kolom AreaBulatan tidak berdistribusi normal\n",
       "    "
      ],
      "text/plain": [
       "<IPython.core.display.Markdown object>"
      ]
     },
     "metadata": {},
     "output_type": "display_data"
    },
    {
     "data": {
      "image/png": "[encoded data removed]",
      "text/plain": [
       "<Figure size 432x288 with 1 Axes>"
      ]
     },
     "metadata": {
      "needs_background": "light"
     },
     "output_type": "display_data"
    },
    {
     "data": {
      "text/markdown": [
       "\n",
       "### Diameter\n",
       "stat = 7.4463  \n",
       "p = 0.0242  \n",
       "alpha = 0.0500  \n",
       "Kolom Diameter tidak berdistribusi normal\n",
       "    "
      ],
      "text/plain": [
       "<IPython.core.display.Markdown object>"
      ]
     },
     "metadata": {},
     "output_type": "display_data"
    },
    {
     "data": {
      "image/png": "[encoded data removed]",
      "text/plain": [
       "<Figure size 432x288 with 1 Axes>"
      ]
     },
     "metadata": {
      "needs_background": "light"
     },
     "output_type": "display_data"
    },
    {
     "data": {
      "text/markdown": [
       "\n",
       "### KadarAir\n",
       "stat = 48.7559  \n",
       "p = 0.0000  \n",
       "alpha = 0.0500  \n",
       "Kolom KadarAir tidak berdistribusi normal\n",
       "    "
      ],
      "text/plain": [
       "<IPython.core.display.Markdown object>"
      ]
     },
     "metadata": {},
     "output_type": "display_data"
    },
    {
     "data": {
      "image/png": "[encoded data removed]",
      "text/plain": [
       "<Figure size 432x288 with 1 Axes>"
      ]
     },
     "metadata": {
      "needs_background": "light"
     },
     "output_type": "display_data"
    },
    {
     "data": {
      "text/markdown": [
       "\n",
       "### Keliling\n",
       "stat = 67.4655  \n",
       "p = 0.0000  \n",
       "alpha = 0.0500  \n",
       "Kolom Keliling tidak berdistribusi normal\n",
       "    "
      ],
      "text/plain": [
       "<IPython.core.display.Markdown object>"
      ]
     },
     "metadata": {},
     "output_type": "display_data"
    },
    {
     "data": {
      "image/png": "[encoded data removed]",
      "text/plain": [
       "<Figure size 432x288 with 1 Axes>"
      ]
     },
     "metadata": {
      "needs_background": "light"
     },
     "output_type": "display_data"
    },
    {
     "data": {
      "text/markdown": [
       "\n",
       "### Bulatan\n",
       "stat = 442.1194  \n",
       "p = 0.0000  \n",
       "alpha = 0.0500  \n",
       "Kolom Bulatan tidak berdistribusi normal\n",
       "    "
      ],
      "text/plain": [
       "<IPython.core.display.Markdown object>"
      ]
     },
     "metadata": {},
     "output_type": "display_data"
    },
    {
     "data": {
      "image/png": "[encoded data removed]",
      "text/plain": [
       "<Figure size 432x288 with 1 Axes>"
      ]
     },
     "metadata": {
      "needs_background": "light"
     },
     "output_type": "display_data"
    },
    {
     "data": {
      "text/markdown": [
       "\n",
       "### Ransum\n",
       "stat = 37.0603  \n",
       "p = 0.0000  \n",
       "alpha = 0.0500  \n",
       "Kolom Ransum tidak berdistribusi normal\n",
       "    "
      ],
      "text/plain": [
       "<IPython.core.display.Markdown object>"
      ]
     },
     "metadata": {},
     "output_type": "display_data"
    },
    {
     "data": {
      "image/png": "[encoded data removed]",
      "text/plain": [
       "<Figure size 432x288 with 1 Axes>"
      ]
     },
     "metadata": {
      "needs_background": "light"
     },
     "output_type": "display_data"
    },
    {
     "data": {
      "text/markdown": [
       "\n",
       "### Target\n",
       "stat = 2069.9954  \n",
       "p = 0.0000  \n",
       "alpha = 0.0500  \n",
       "Kolom Target tidak berdistribusi normal\n",
       "    "
      ],
      "text/plain": [
       "<IPython.core.display.Markdown object>"
      ]
     },
     "metadata": {},
     "output_type": "display_data"
    },
    {
     "data": {
      "image/png": "[encoded data removed]",
      "text/plain": [
       "<Figure size 432x288 with 1 Axes>"
      ]
     },
     "metadata": {
      "needs_background": "light"
     },
     "output_type": "display_data"
    }
   ],
   "source": [
    "for columnName in columnNamesGandum:\n",
    "    # normality test\n",
    "    alpha = 0.05\n",
    "    stat, p = normaltest(dfGandum[columnName])\n",
    "    \n",
    "    columnNormalDistrubutionSoal3Text = f\"\"\"\n",
    "### {columnName}\n",
    "stat = {stat:.4f}  \n",
    "p = {p:.4f}  \n",
    "alpha = {alpha:.4f}  \n",
    "Kolom {columnName} {\"\" if p > alpha else \"tidak \"}berdistribusi normal\n",
    "    \"\"\"\n",
    "    \n",
    "    displayMarkdown(columnNormalDistrubutionSoal3Text)\n",
    "    \n",
    "    # visualize hist\n",
    "    plt.subplots()\n",
    "    dfGandum[columnName].plot.hist(\n",
    "        rwidth = 0.80,\n",
    "        bins = 15,\n",
    "        density = \"True\"\n",
    "    )\n",
    "    dfGandum[columnName].plot.kde()\n",
    "    plt.title(columnName)\n",
    "    plt.xlabel(\"value\")\n",
    "    plt.show()"
   ]
  },
  {
   "cell_type": "code",
   "execution_count": 153,
   "id": "b36c2f2e",
   "metadata": {},
   "outputs": [
    {
     "data": {
      "text/markdown": [
       "\n",
       "## Soal 4\n",
       "Melakukan test hipotesis 1 sampel, dengan menuliskan 6 langkah testing dan menampilkan juga boxplotnya untuk kolom/bagian yang bersesuaian.\n",
       "\n",
       "### Sample\n",
       "Sample yang akan diambil akan berjumlah 250\n"
      ],
      "text/plain": [
       "<IPython.core.display.Markdown object>"
      ]
     },
     "metadata": {},
     "output_type": "display_data"
    },
    {
     "data": {
      "text/html": [
       "<div>\n",
       "<style scoped>\n",
       "    .dataframe tbody tr th:only-of-type {\n",
       "        vertical-align: middle;\n",
       "    }\n",
       "\n",
       "    .dataframe tbody tr th {\n",
       "        vertical-align: top;\n",
       "    }\n",
       "\n",
       "    .dataframe thead th {\n",
       "        text-align: right;\n",
       "    }\n",
       "</style>\n",
       "<table border=\"1\" class=\"dataframe\">\n",
       "  <thead>\n",
       "    <tr style=\"text-align: right;\">\n",
       "      <th></th>\n",
       "      <th>ID</th>\n",
       "      <th>Daerah</th>\n",
       "      <th>SumbuUtama</th>\n",
       "      <th>SumbuKecil</th>\n",
       "      <th>Keunikan</th>\n",
       "      <th>AreaBulatan</th>\n",
       "      <th>Diameter</th>\n",
       "      <th>KadarAir</th>\n",
       "      <th>Keliling</th>\n",
       "      <th>Bulatan</th>\n",
       "      <th>Ransum</th>\n",
       "      <th>Target</th>\n",
       "    </tr>\n",
       "  </thead>\n",
       "  <tbody>\n",
       "    <tr>\n",
       "      <th>196</th>\n",
       "      <td>197</td>\n",
       "      <td>5743</td>\n",
       "      <td>134.519506</td>\n",
       "      <td>55.317631</td>\n",
       "      <td>0.911534</td>\n",
       "      <td>5890</td>\n",
       "      <td>85.511489</td>\n",
       "      <td>0.661636</td>\n",
       "      <td>314.233</td>\n",
       "      <td>0.730878</td>\n",
       "      <td>2.431765</td>\n",
       "      <td>1</td>\n",
       "    </tr>\n",
       "    <tr>\n",
       "      <th>216</th>\n",
       "      <td>217</td>\n",
       "      <td>5000</td>\n",
       "      <td>125.918914</td>\n",
       "      <td>51.510428</td>\n",
       "      <td>0.912500</td>\n",
       "      <td>5117</td>\n",
       "      <td>79.788456</td>\n",
       "      <td>0.666400</td>\n",
       "      <td>293.922</td>\n",
       "      <td>0.727304</td>\n",
       "      <td>2.444532</td>\n",
       "      <td>1</td>\n",
       "    </tr>\n",
       "    <tr>\n",
       "      <th>28</th>\n",
       "      <td>29</td>\n",
       "      <td>4954</td>\n",
       "      <td>120.697991</td>\n",
       "      <td>53.453906</td>\n",
       "      <td>0.896584</td>\n",
       "      <td>5084</td>\n",
       "      <td>79.420581</td>\n",
       "      <td>0.827183</td>\n",
       "      <td>284.145</td>\n",
       "      <td>0.771056</td>\n",
       "      <td>2.257983</td>\n",
       "      <td>1</td>\n",
       "    </tr>\n",
       "    <tr>\n",
       "      <th>293</th>\n",
       "      <td>294</td>\n",
       "      <td>3271</td>\n",
       "      <td>87.412863</td>\n",
       "      <td>49.069354</td>\n",
       "      <td>0.827577</td>\n",
       "      <td>3391</td>\n",
       "      <td>64.535003</td>\n",
       "      <td>0.671388</td>\n",
       "      <td>226.793</td>\n",
       "      <td>0.799155</td>\n",
       "      <td>1.781415</td>\n",
       "      <td>2</td>\n",
       "    </tr>\n",
       "    <tr>\n",
       "      <th>297</th>\n",
       "      <td>298</td>\n",
       "      <td>2522</td>\n",
       "      <td>77.090790</td>\n",
       "      <td>42.871879</td>\n",
       "      <td>0.831101</td>\n",
       "      <td>2579</td>\n",
       "      <td>56.666658</td>\n",
       "      <td>0.598765</td>\n",
       "      <td>197.015</td>\n",
       "      <td>0.816500</td>\n",
       "      <td>1.798167</td>\n",
       "      <td>2</td>\n",
       "    </tr>\n",
       "  </tbody>\n",
       "</table>\n",
       "</div>"
      ],
      "text/plain": [
       "      ID  Daerah  SumbuUtama  SumbuKecil  Keunikan  AreaBulatan   Diameter  \\\n",
       "196  197    5743  134.519506   55.317631  0.911534         5890  85.511489   \n",
       "216  217    5000  125.918914   51.510428  0.912500         5117  79.788456   \n",
       "28    29    4954  120.697991   53.453906  0.896584         5084  79.420581   \n",
       "293  294    3271   87.412863   49.069354  0.827577         3391  64.535003   \n",
       "297  298    2522   77.090790   42.871879  0.831101         2579  56.666658   \n",
       "\n",
       "     KadarAir  Keliling   Bulatan    Ransum  Target  \n",
       "196  0.661636   314.233  0.730878  2.431765       1  \n",
       "216  0.666400   293.922  0.727304  2.444532       1  \n",
       "28   0.827183   284.145  0.771056  2.257983       1  \n",
       "293  0.671388   226.793  0.799155  1.781415       2  \n",
       "297  0.598765   197.015  0.816500  1.798167       2  "
      ]
     },
     "execution_count": 153,
     "metadata": {},
     "output_type": "execute_result"
    }
   ],
   "source": [
    "soal4Text = f\"\"\"\n",
    "## Soal 4\n",
    "Melakukan test hipotesis 1 sampel, dengan menuliskan 6 langkah testing dan menampilkan juga boxplotnya untuk kolom/bagian yang bersesuaian.\n",
    "\n",
    "\"\"\"\n",
    "\n",
    "displayMarkdown(soal4Text)\n"
   ]
  },
  {
   "cell_type": "code",
   "execution_count": 184,
   "id": "e4eb9ad5",
   "metadata": {},
   "outputs": [
    {
     "data": {
      "text/markdown": [
       "\n",
       "### Soal 4.a\n",
       "Nilai rata-rata Daerah di atas 4700?  \n",
       "\n",
       "#### Enam langkah testing\n",
       "##### 1. Tentukan Hipotesis nol (H0: θ = θ0), dimana θ bisa berupa μ, σ^2, p, atau data lain  \n",
       "##### berdistribusi tertentu (normal, binomial, dsc.).  \n",
       "\n",
       "H0 : rata-rata Daerah = 4700  \n",
       "  \n",
       "##### 2. Pilih hipotesis alternatif H1 salah dari dari θ > θ0, θ < θ0, atau θ ≠ θ0  \n",
       "\n",
       "H1 : rata-rata Daerah > 4700  \n",
       "  \n",
       "##### 3. Tentukan tingkat signifikan α.  \n",
       "\n",
       "α = 0.05  \n",
       "  \n",
       "##### 4. Tentukan uji statistik yang sesuai dan tentukan daerah kritis.  \n",
       "  \n",
       "Nilai kritisnya adalah 1.6449  \n",
       "Maka daerah kritisnya adalah Z > 1.6449\n",
       "  \n",
       "##### 5. Hitung nilai uji statistik dari data sample. Hitung p-value sesuai dengan uji statistik yang digunakan.  \n",
       "\n",
       "Rataan sample = 4788.5160  \n",
       "Rataan populasi = 4801.2460  \n",
       "Standar deviasi populasi = 986.3955  \n",
       "Jumlah sample = 250  \n",
       "\n",
       "Z = -0.2041  \n",
       "  \n",
       "p-value = P(Z > -0.2041) = 1 - P(Z < -0.2041) = 0.5808447566641062  \n",
       "  \n",
       "##### 6. Ambil keputusan dengan TOLAK H0 jika nilai uji terletak di daerah kritis atau dengan tes  \n",
       "##### signifikan, TOLAK H0 jika p-value lebih kecil dibanding tingkat signifikansi α yang diinginkan  \n",
       "\n",
       "Daerah kritis = Z > 1.6449, dan Z = -0.20405504162168922, maka gagal  tolak H0    \n",
       "α = 0.05, dan p-value = 0.5808447566641062, maka gagal  tolak H0    \n",
       "\n"
      ],
      "text/plain": [
       "<IPython.core.display.Markdown object>"
      ]
     },
     "metadata": {},
     "output_type": "display_data"
    },
    {
     "data": {
      "text/plain": [
       "<AxesSubplot:>"
      ]
     },
     "execution_count": 184,
     "metadata": {},
     "output_type": "execute_result"
    },
    {
     "data": {
      "image/png": "[encoded data removed]",
      "text/plain": [
       "<Figure size 432x288 with 1 Axes>"
      ]
     },
     "metadata": {
      "needs_background": "light"
     },
     "output_type": "display_data"
    }
   ],
   "source": [
    "# mengambil sample\n",
    "nSample = len(dfGandum) // 2\n",
    "sampleDfGandum = dfGandum.sample(nSample)\n",
    "\n",
    "columnName = \"Daerah\"\n",
    "\n",
    "# 1. Hipotesis  nol\n",
    "hipotesisNol = \"rata-rata Daerah = 4700\"\n",
    "\n",
    "# 2. Hipotesis alternatif\n",
    "hipotesisAlternatif = \"rata-rata Daerah > 4700\"\n",
    "\n",
    "# 3. Tingkat signifikan alpha\n",
    "alpha = 0.05\n",
    "\n",
    "# 4. Uji statistik dan daerah kritis\n",
    "nilaiKritis = norm.ppf(1 - alpha)\n",
    "daerahKritis = f\"Z > {nilaiKritis:.4f}\"\n",
    "\n",
    "# 5. Nilai uji statistik dan p-value\n",
    "meanSample = sampleDfGandum[columnName].mean()\n",
    "meanPopulasi = dfGandum[columnName].mean()\n",
    "stdPopulasi = dfGandum[columnName].std()\n",
    "\n",
    "Z = (meanSample - meanPopulasi) / (stdPopulasi / math.sqrt(nSample))\n",
    "\n",
    "pValue = 1 - norm.cdf(Z)\n",
    "\n",
    "# 6. Keputusan\n",
    "tolakHipotesisNolZ = Z > nilaiKritis\n",
    "tolakHipotesisNolP = pValue < alpha\n",
    "\n",
    "tolakHipotesisNolZText = f\"Daerah kritis = {daerahKritis}, dan Z = {Z}, maka {'' if tolakHipotesisNolZ else 'gagal '} tolak H0  \"\n",
    "tolakHipotesisNolPText = f\"α = {alpha}, dan p-value = {pValue}, maka {'' if tolakHipotesisNolP else 'gagal '} tolak H0  \"\n",
    "\n",
    "\n",
    "soal4aText = f\"\"\"\n",
    "### Soal 4.a\n",
    "Nilai rata-rata Daerah di atas 4700?  \n",
    "\n",
    "#### Enam langkah testing\n",
    "##### 1. Tentukan Hipotesis nol (H0: θ = θ0), dimana θ bisa berupa μ, σ^2, p, atau data lain  \n",
    "##### berdistribusi tertentu (normal, binomial, dsc.).  \n",
    "\n",
    "H0 : {hipotesisNol}  \n",
    "  \n",
    "##### 2. Pilih hipotesis alternatif H1 salah dari dari θ > θ0, θ < θ0, atau θ ≠ θ0  \n",
    "\n",
    "H1 : {hipotesisAlternatif}  \n",
    "  \n",
    "##### 3. Tentukan tingkat signifikan α.  \n",
    "\n",
    "α = {alpha}  \n",
    "  \n",
    "##### 4. Tentukan uji statistik yang sesuai dan tentukan daerah kritis.  \n",
    "  \n",
    "Nilai kritisnya adalah {nilaiKritis:.4f}  \n",
    "Maka daerah kritisnya adalah {daerahKritis}\n",
    "  \n",
    "##### 5. Hitung nilai uji statistik dari data sample. Hitung p-value sesuai dengan uji statistik yang digunakan.  \n",
    "\n",
    "Rataan sample = {meanSample:.4f}  \n",
    "Rataan populasi = {meanPopulasi:.4f}  \n",
    "Standar deviasi populasi = {stdPopulasi:.4f}  \n",
    "Jumlah sample = {nSample}  \n",
    "\n",
    "Z = {Z:.4f}  \n",
    "  \n",
    "p-value = P(Z > {Z:.4f}) = 1 - P(Z < {Z:.4f}) = {pValue}  \n",
    "  \n",
    "##### 6. Ambil keputusan dengan TOLAK H0 jika nilai uji terletak di daerah kritis atau dengan tes  \n",
    "##### signifikan, TOLAK H0 jika p-value lebih kecil dibanding tingkat signifikansi α yang diinginkan  \n",
    "\n",
    "{tolakHipotesisNolZText}  \n",
    "{tolakHipotesisNolPText}  \n",
    "\n",
    "\"\"\"\n",
    "\n",
    "displayMarkdown(soal4aText)\n",
    "\n",
    "sampleDfGandum.boxplot(columnName)"
   ]
  },
  {
   "cell_type": "code",
   "execution_count": 190,
   "id": "1be571b0",
   "metadata": {},
   "outputs": [
    {
     "data": {
      "text/markdown": [
       "\n",
       "### Soal 4.b\n",
       "Nilai Rata-rata Sumbu Utama tidak sama dengan 116?  \n",
       "\n",
       "#### Enam langkah testing\n",
       "##### 1. Tentukan Hipotesis nol (H0: θ = θ0), dimana θ bisa berupa μ, σ^2, p, atau data lain  \n",
       "##### berdistribusi tertentu (normal, binomial, dsc.).  \n",
       "\n",
       "H0 : rata-rata SumbuUtama = 116  \n",
       "  \n",
       "##### 2. Pilih hipotesis alternatif H1 salah dari dari θ > θ0, θ < θ0, atau θ ≠ θ0  \n",
       "\n",
       "H1 : rata-rata SumbuUtama != 116  \n",
       "  \n",
       "##### 3. Tentukan tingkat signifikan α.  \n",
       "\n",
       "α = 0.025  \n",
       "  \n",
       "##### 4. Tentukan uji statistik yang sesuai dan tentukan daerah kritis.  \n",
       "  \n",
       "Nilai kritisnya adalah 1.9600  \n",
       "Maka daerah kritisnya adalah Z > 1.9600 atau Z < -1.9600\n",
       "  \n",
       "##### 5. Hitung nilai uji statistik dari data sample. Hitung p-value sesuai dengan uji statistik yang digunakan.  \n",
       "\n",
       "Rataan sample = 115.6351  \n",
       "Rataan populasi = 116.0452  \n",
       "Standar deviasi populasi = 18.2826  \n",
       "Jumlah sample = 250  \n",
       "\n",
       "Z = -0.3547  \n",
       "  \n",
       "p-value = P(Z > -0.3547) = 1 - P(Z < -0.3547) = -0.27716771974091503  \n",
       "  \n",
       "##### 6. Ambil keputusan dengan TOLAK H0 jika nilai uji terletak di daerah kritis atau dengan tes  \n",
       "##### signifikan, TOLAK H0 jika p-value lebih kecil dibanding tingkat signifikansi α yang diinginkan  \n",
       "\n",
       "Daerah kritis = Z > 1.9600 atau Z < -1.9600, dan Z = -0.3546760700562873, maka gagal  tolak H0    \n",
       "α = 0.025, dan p-value = -0.27716771974091503, maka  tolak H0    \n",
       "\n"
      ],
      "text/plain": [
       "<IPython.core.display.Markdown object>"
      ]
     },
     "metadata": {},
     "output_type": "display_data"
    },
    {
     "data": {
      "text/plain": [
       "<AxesSubplot:>"
      ]
     },
     "execution_count": 190,
     "metadata": {},
     "output_type": "execute_result"
    },
    {
     "data": {
      "image/png": "[encoded data removed]",
      "text/plain": [
       "<Figure size 432x288 with 1 Axes>"
      ]
     },
     "metadata": {
      "needs_background": "light"
     },
     "output_type": "display_data"
    }
   ],
   "source": [
    "# mengambil sample\n",
    "nSample = len(dfGandum) // 2\n",
    "sampleDfGandum = dfGandum.sample(nSample)\n",
    "\n",
    "columnName = \"SumbuUtama\"\n",
    "\n",
    "# 1. Hipotesis  nol\n",
    "hipotesisNol = \"rata-rata SumbuUtama = 116\"\n",
    "\n",
    "# 2. Hipotesis alternatif\n",
    "hipotesisAlternatif = \"rata-rata SumbuUtama != 116\"\n",
    "\n",
    "# 3. Tingkat signifikan alpha\n",
    "alpha = 0.05 / 2\n",
    "\n",
    "# 4. Uji statistik dan daerah kritis\n",
    "nilaiKritis = norm.ppf(1 - alpha)\n",
    "daerahKritis = f\"Z > {nilaiKritis:.4f} atau Z < -{nilaiKritis:.4f}\"\n",
    "\n",
    "# 5. Nilai uji statistik dan p-value\n",
    "meanSample = sampleDfGandum[columnName].mean()\n",
    "meanPopulasi = dfGandum[columnName].mean()\n",
    "stdPopulasi = dfGandum[columnName].std()\n",
    "\n",
    "Z = (meanSample - meanPopulasi) / (stdPopulasi / math.sqrt(nSample))\n",
    "\n",
    "pValue = 1 - norm.sf(Z) * 2\n",
    "\n",
    "# 6. Keputusan\n",
    "tolakHipotesisNolZ = Z > nilaiKritis or Z < -1 * nilaiKritis\n",
    "tolakHipotesisNolP = pValue < alpha\n",
    "\n",
    "tolakHipotesisNolZText = f\"Daerah kritis = {daerahKritis}, dan Z = {Z}, maka {'' if tolakHipotesisNolZ else 'gagal '} tolak H0  \"\n",
    "tolakHipotesisNolPText = f\"α = {alpha}, dan p-value = {pValue}, maka {'' if tolakHipotesisNolP else 'gagal '} tolak H0  \"\n",
    "\n",
    "soal4bText = f\"\"\"\n",
    "### Soal 4.b\n",
    "Nilai Rata-rata Sumbu Utama tidak sama dengan 116?  \n",
    "\n",
    "#### Enam langkah testing\n",
    "##### 1. Tentukan Hipotesis nol (H0: θ = θ0), dimana θ bisa berupa μ, σ^2, p, atau data lain  \n",
    "##### berdistribusi tertentu (normal, binomial, dsc.).  \n",
    "\n",
    "H0 : {hipotesisNol}  \n",
    "  \n",
    "##### 2. Pilih hipotesis alternatif H1 salah dari dari θ > θ0, θ < θ0, atau θ ≠ θ0  \n",
    "\n",
    "H1 : {hipotesisAlternatif}  \n",
    "  \n",
    "##### 3. Tentukan tingkat signifikan α.  \n",
    "\n",
    "α = {alpha}  \n",
    "  \n",
    "##### 4. Tentukan uji statistik yang sesuai dan tentukan daerah kritis.  \n",
    "  \n",
    "Nilai kritisnya adalah {nilaiKritis:.4f}  \n",
    "Maka daerah kritisnya adalah {daerahKritis}\n",
    "  \n",
    "##### 5. Hitung nilai uji statistik dari data sample. Hitung p-value sesuai dengan uji statistik yang digunakan.  \n",
    "\n",
    "Rataan sample = {meanSample:.4f}  \n",
    "Rataan populasi = {meanPopulasi:.4f}  \n",
    "Standar deviasi populasi = {stdPopulasi:.4f}  \n",
    "Jumlah sample = {nSample}  \n",
    "\n",
    "Z = {Z:.4f}  \n",
    "  \n",
    "p-value = P(Z > {Z:.4f}) = 1 - P(Z < {Z:.4f}) = {pValue}  \n",
    "  \n",
    "##### 6. Ambil keputusan dengan TOLAK H0 jika nilai uji terletak di daerah kritis atau dengan tes  \n",
    "##### signifikan, TOLAK H0 jika p-value lebih kecil dibanding tingkat signifikansi α yang diinginkan  \n",
    "\n",
    "{tolakHipotesisNolZText}  \n",
    "{tolakHipotesisNolPText}  \n",
    "\n",
    "\"\"\"\n",
    "\n",
    "displayMarkdown(soal4bText)\n",
    "\n",
    "sampleDfGandum.boxplot(columnName)"
   ]
  },
  {
   "cell_type": "code",
   "execution_count": 192,
   "id": "b9fe262c",
   "metadata": {},
   "outputs": [
    {
     "data": {
      "text/markdown": [
       "\n",
       "### Soal 4.c\n",
       "Nilai Rata-rata 20 baris pertama kolom Sumbu Kecil bukan 50?  \n",
       "\n",
       "#### Enam langkah testing\n",
       "##### 1. Tentukan Hipotesis nol (H0: θ = θ0), dimana θ bisa berupa μ, σ^2, p, atau data lain  \n",
       "##### berdistribusi tertentu (normal, binomial, dsc.).  \n",
       "\n",
       "H0 : rata-rata 20 baris pertama SumbuKecil = 50  \n",
       "  \n",
       "##### 2. Pilih hipotesis alternatif H1 salah dari dari θ > θ0, θ < θ0, atau θ ≠ θ0  \n",
       "\n",
       "H1 : rata-rata 20 baris pertama SumbuKecil != 50  \n",
       "  \n",
       "##### 3. Tentukan tingkat signifikan α.  \n",
       "\n",
       "α = 0.025  \n",
       "  \n",
       "##### 4. Tentukan uji statistik yang sesuai dan tentukan daerah kritis.  \n",
       "  \n",
       "Nilai kritisnya adalah 1.9600  \n",
       "Maka daerah kritisnya adalah Z > 1.9600 atau Z < -1.9600\n",
       "  \n",
       "##### 5. Hitung nilai uji statistik dari data sample. Hitung p-value sesuai dengan uji statistik yang digunakan.  \n",
       "\n",
       "Rataan sample = 54.8873  \n",
       "Rataan populasi = 53.7152  \n",
       "Standar deviasi populasi = 4.0711  \n",
       "Jumlah sample = 20  \n",
       "\n",
       "Z = 1.2875  \n",
       "  \n",
       "p-value = P(Z > 1.2875) = 1 - P(Z < 1.2875) = 0.8020773613237181  \n",
       "  \n",
       "##### 6. Ambil keputusan dengan TOLAK H0 jika nilai uji terletak di daerah kritis atau dengan tes  \n",
       "##### signifikan, TOLAK H0 jika p-value lebih kecil dibanding tingkat signifikansi α yang diinginkan  \n",
       "\n",
       "Daerah kritis = Z > 1.9600 atau Z < -1.9600, dan Z = 1.2874926245251024, maka gagal  tolak H0    \n",
       "α = 0.025, dan p-value = 0.8020773613237181, maka gagal  tolak H0    \n",
       "\n"
      ],
      "text/plain": [
       "<IPython.core.display.Markdown object>"
      ]
     },
     "metadata": {},
     "output_type": "display_data"
    },
    {
     "data": {
      "text/plain": [
       "<AxesSubplot:>"
      ]
     },
     "execution_count": 192,
     "metadata": {},
     "output_type": "execute_result"
    },
    {
     "data": {
      "image/png": "[encoded data removed]",
      "text/plain": [
       "<Figure size 432x288 with 1 Axes>"
      ]
     },
     "metadata": {
      "needs_background": "light"
     },
     "output_type": "display_data"
    }
   ],
   "source": [
    "# mengambil sample\n",
    "nSample = 20\n",
    "sampleDfGandum = dfGandum.head(20)\n",
    "\n",
    "columnName = \"SumbuKecil\"\n",
    "\n",
    "# 1. Hipotesis  nol\n",
    "hipotesisNol = \"rata-rata 20 baris pertama SumbuKecil = 50\"\n",
    "\n",
    "# 2. Hipotesis alternatif\n",
    "hipotesisAlternatif = \"rata-rata 20 baris pertama SumbuKecil != 50\"\n",
    "\n",
    "# 3. Tingkat signifikan alpha\n",
    "alpha = 0.05 / 2\n",
    "\n",
    "# 4. Uji statistik dan daerah kritis\n",
    "nilaiKritis = norm.ppf(1 - alpha)\n",
    "daerahKritis = f\"Z > {nilaiKritis:.4f} atau Z < {-1 * nilaiKritis:.4f}\"\n",
    "\n",
    "# 5. Nilai uji statistik dan p-value\n",
    "meanSample = sampleDfGandum[columnName].mean()\n",
    "meanPopulasi = dfGandum[columnName].mean()\n",
    "stdPopulasi = dfGandum[columnName].std()\n",
    "\n",
    "Z = (meanSample - meanPopulasi) / (stdPopulasi / math.sqrt(nSample))\n",
    "\n",
    "pValue = 1 - norm.sf(Z) * 2\n",
    "\n",
    "# 6. Keputusan\n",
    "tolakHipotesisNolZ = Z > nilaiKritis or Z < -1 * nilaiKritis\n",
    "tolakHipotesisNolP = pValue < alpha\n",
    "\n",
    "tolakHipotesisNolZText = f\"Daerah kritis = {daerahKritis}, dan Z = {Z}, maka {'' if tolakHipotesisNolZ else 'gagal '} tolak H0  \"\n",
    "tolakHipotesisNolPText = f\"α = {alpha}, dan p-value = {pValue}, maka {'' if tolakHipotesisNolP else 'gagal '} tolak H0  \"\n",
    "\n",
    "soal4cText = f\"\"\"\n",
    "### Soal 4.c\n",
    "Nilai Rata-rata 20 baris pertama kolom Sumbu Kecil bukan 50?  \n",
    "\n",
    "#### Enam langkah testing\n",
    "##### 1. Tentukan Hipotesis nol (H0: θ = θ0), dimana θ bisa berupa μ, σ^2, p, atau data lain  \n",
    "##### berdistribusi tertentu (normal, binomial, dsc.).  \n",
    "\n",
    "H0 : {hipotesisNol}  \n",
    "  \n",
    "##### 2. Pilih hipotesis alternatif H1 salah dari dari θ > θ0, θ < θ0, atau θ ≠ θ0  \n",
    "\n",
    "H1 : {hipotesisAlternatif}  \n",
    "  \n",
    "##### 3. Tentukan tingkat signifikan α.  \n",
    "\n",
    "α = {alpha}  \n",
    "  \n",
    "##### 4. Tentukan uji statistik yang sesuai dan tentukan daerah kritis.  \n",
    "  \n",
    "Nilai kritisnya adalah {nilaiKritis:.4f}  \n",
    "Maka daerah kritisnya adalah {daerahKritis}\n",
    "  \n",
    "##### 5. Hitung nilai uji statistik dari data sample. Hitung p-value sesuai dengan uji statistik yang digunakan.  \n",
    "\n",
    "Rataan sample = {meanSample:.4f}  \n",
    "Rataan populasi = {meanPopulasi:.4f}  \n",
    "Standar deviasi populasi = {stdPopulasi:.4f}  \n",
    "Jumlah sample = {nSample}  \n",
    "\n",
    "Z = {Z:.4f}  \n",
    "  \n",
    "p-value = P(Z > {Z:.4f}) = 1 - P(Z < {Z:.4f}) = {pValue}  \n",
    "  \n",
    "##### 6. Ambil keputusan dengan TOLAK H0 jika nilai uji terletak di daerah kritis atau dengan tes  \n",
    "##### signifikan, TOLAK H0 jika p-value lebih kecil dibanding tingkat signifikansi α yang diinginkan  \n",
    "\n",
    "{tolakHipotesisNolZText}  \n",
    "{tolakHipotesisNolPText}  \n",
    "\n",
    "\"\"\"\n",
    "\n",
    "displayMarkdown(soal4cText)\n",
    "\n",
    "sampleDfGandum.boxplot(columnName)"
   ]
  },
  {
   "cell_type": "code",
   "execution_count": 198,
   "id": "08b480f7",
   "metadata": {},
   "outputs": [
    {
     "data": {
      "text/markdown": [
       "\n",
       "### Soal 4.d\n",
       "Proporsi nilai Diameter yang lebih dari 85, adalah tidak sama dengan 15% ?\n",
       "\n",
       "#### Enam langkah testing\n",
       "##### 1. Tentukan Hipotesis nol (H0: θ = θ0), dimana θ bisa berupa μ, σ^2, p, atau data lain  \n",
       "##### berdistribusi tertentu (normal, binomial, dsc.).  \n",
       "\n",
       "H0 : P(X > 85) = 15  \n",
       "  \n",
       "##### 2. Pilih hipotesis alternatif H1 salah dari dari θ > θ0, θ < θ0, atau θ ≠ θ0  \n",
       "\n",
       "H1 : P(X > 85) != 15  \n",
       "  \n",
       "##### 3. Tentukan tingkat signifikan α.  \n",
       "\n",
       "α = 0.025  \n",
       "  \n",
       "##### 4. Tentukan uji statistik yang sesuai dan tentukan daerah kritis.  \n",
       "  \n",
       "Nilai kritisnya adalah 1.9600  \n",
       "Maka daerah kritisnya adalah Z > 1.9600 atau Z < -1.9600\n",
       "  \n",
       "##### 5. Hitung nilai uji statistik dari data sample. Hitung p-value sesuai dengan uji statistik yang digunakan.  \n",
       "\n",
       "Z = 3.0997  \n",
       "  \n",
       "p-value = P(Z > 3.0997) = 1 - P(Z < 3.0997) = 0.9980625192907492  \n",
       "  \n",
       "##### 6. Ambil keputusan dengan TOLAK H0 jika nilai uji terletak di daerah kritis atau dengan tes  \n",
       "##### signifikan, TOLAK H0 jika p-value lebih kecil dibanding tingkat signifikansi α yang diinginkan  \n",
       "\n",
       "Daerah kritis = Z > 1.9600 atau Z < -1.9600, dan Z = 3.0996520993903336, maka  tolak H0    \n",
       "α = 0.025, dan p-value = 0.9980625192907492, maka gagal  tolak H0    \n",
       "\n"
      ],
      "text/plain": [
       "<IPython.core.display.Markdown object>"
      ]
     },
     "metadata": {},
     "output_type": "display_data"
    },
    {
     "data": {
      "text/plain": [
       "<AxesSubplot:>"
      ]
     },
     "execution_count": 198,
     "metadata": {},
     "output_type": "execute_result"
    },
    {
     "data": {
      "image/png": "[encoded data removed]",
      "text/plain": [
       "<Figure size 432x288 with 1 Axes>"
      ]
     },
     "metadata": {
      "needs_background": "light"
     },
     "output_type": "display_data"
    }
   ],
   "source": [
    "# mengambil sample\n",
    "nSample = 250\n",
    "sampleDfGandum = dfGandum.sample(nSample)\n",
    "\n",
    "columnName = \"Diameter\"\n",
    "\n",
    "# 1. Hipotesis  nol\n",
    "hipotesisNol = \"P(X > 85) = 15\"\n",
    "\n",
    "# 2. Hipotesis alternatif\n",
    "hipotesisAlternatif = \"P(X > 85) != 15\"\n",
    "\n",
    "# 3. Tingkat signifikan alpha\n",
    "alpha = 0.05 / 2\n",
    "\n",
    "# 4. Uji statistik dan daerah kritis\n",
    "nilaiKritis = norm.ppf(1 - alpha)\n",
    "daerahKritis = f\"Z > {nilaiKritis:.4f} atau Z < {-1 * nilaiKritis:.4f}\"\n",
    "\n",
    "# 5. Nilai uji statistik dan p-value\n",
    "countDiameterAbove85 = len(sampleDfGandum[columnName].loc[sampleDfGandum[columnName] > 85])\n",
    "\n",
    "Z = ((countDiameterAbove85 / nSample) - 0.15) / math.sqrt(0.15 * 0.85 / nSample)\n",
    "\n",
    "pValue = 1 - norm.sf(Z) * 2\n",
    "\n",
    "# 6. Keputusan\n",
    "tolakHipotesisNolZ = Z > nilaiKritis or Z < -1 * nilaiKritis\n",
    "tolakHipotesisNolP = pValue < alpha\n",
    "\n",
    "tolakHipotesisNolZText = f\"Daerah kritis = {daerahKritis}, dan Z = {Z}, maka {'' if tolakHipotesisNolZ else 'gagal '} tolak H0  \"\n",
    "tolakHipotesisNolPText = f\"α = {alpha}, dan p-value = {pValue}, maka {'' if tolakHipotesisNolP else 'gagal '} tolak H0  \"\n",
    "\n",
    "soal4dText = f\"\"\"\n",
    "### Soal 4.d\n",
    "Proporsi nilai Diameter yang lebih dari 85, adalah tidak sama dengan 15% ?\n",
    "\n",
    "#### Enam langkah testing\n",
    "##### 1. Tentukan Hipotesis nol (H0: θ = θ0), dimana θ bisa berupa μ, σ^2, p, atau data lain  \n",
    "##### berdistribusi tertentu (normal, binomial, dsc.).  \n",
    "\n",
    "H0 : {hipotesisNol}  \n",
    "  \n",
    "##### 2. Pilih hipotesis alternatif H1 salah dari dari θ > θ0, θ < θ0, atau θ ≠ θ0  \n",
    "\n",
    "H1 : {hipotesisAlternatif}  \n",
    "  \n",
    "##### 3. Tentukan tingkat signifikan α.  \n",
    "\n",
    "α = {alpha}  \n",
    "  \n",
    "##### 4. Tentukan uji statistik yang sesuai dan tentukan daerah kritis.  \n",
    "  \n",
    "Nilai kritisnya adalah {nilaiKritis:.4f}  \n",
    "Maka daerah kritisnya adalah {daerahKritis}\n",
    "  \n",
    "##### 5. Hitung nilai uji statistik dari data sample. Hitung p-value sesuai dengan uji statistik yang digunakan.  \n",
    "\n",
    "Z = {Z:.4f}  \n",
    "  \n",
    "p-value = P(Z > {Z:.4f}) = 1 - P(Z < {Z:.4f}) = {pValue}  \n",
    "  \n",
    "##### 6. Ambil keputusan dengan TOLAK H0 jika nilai uji terletak di daerah kritis atau dengan tes  \n",
    "##### signifikan, TOLAK H0 jika p-value lebih kecil dibanding tingkat signifikansi α yang diinginkan  \n",
    "\n",
    "{tolakHipotesisNolZText}  \n",
    "{tolakHipotesisNolPText}  \n",
    "\n",
    "\"\"\"\n",
    "\n",
    "displayMarkdown(soal4dText)\n",
    "\n",
    "sampleDfGandum.boxplot(columnName)"
   ]
  },
  {
   "cell_type": "code",
   "execution_count": 202,
   "id": "c29f37ae",
   "metadata": {},
   "outputs": [
    {
     "data": {
      "text/markdown": [
       "\n",
       "### Soal 4.e\n",
       "Proporsi nilai Keliling yang kurang dari 100, adalah kurang dari 5% ?\n",
       "\n",
       "#### Enam langkah testing\n",
       "##### 1. Tentukan Hipotesis nol (H0: θ = θ0), dimana θ bisa berupa μ, σ^2, p, atau data lain  \n",
       "##### berdistribusi tertentu (normal, binomial, dsc.).  \n",
       "\n",
       "H0 : P(X < 100) = 0.05  \n",
       "  \n",
       "##### 2. Pilih hipotesis alternatif H1 salah dari dari θ > θ0, θ < θ0, atau θ ≠ θ0  \n",
       "\n",
       "H1 : P(X < 100) < 0.05  \n",
       "  \n",
       "##### 3. Tentukan tingkat signifikan α.  \n",
       "\n",
       "α = 0.05  \n",
       "  \n",
       "##### 4. Tentukan uji statistik yang sesuai dan tentukan daerah kritis.  \n",
       "  \n",
       "Nilai kritisnya adalah 1.6449  \n",
       "Maka daerah kritisnya adalah Z > 1.6449 atau Z < -1.6449\n",
       "  \n",
       "##### 5. Hitung nilai uji statistik dari data sample. Hitung p-value sesuai dengan uji statistik yang digunakan.  \n",
       "\n",
       "Z = -3.6274  \n",
       "  \n",
       "p-value = P(Z > -3.6274) = 1 - P(Z < -3.6274) = -0.9997136896183174  \n",
       "  \n",
       "##### 6. Ambil keputusan dengan TOLAK H0 jika nilai uji terletak di daerah kritis atau dengan tes  \n",
       "##### signifikan, TOLAK H0 jika p-value lebih kecil dibanding tingkat signifikansi α yang diinginkan  \n",
       "\n",
       "Daerah kritis = Z > 1.6449 atau Z < -1.6449, dan Z = -3.6273812505500587, maka  tolak H0    \n",
       "α = 0.05, dan p-value = -0.9997136896183174, maka  tolak H0    \n",
       "\n"
      ],
      "text/plain": [
       "<IPython.core.display.Markdown object>"
      ]
     },
     "metadata": {},
     "output_type": "display_data"
    },
    {
     "data": {
      "text/plain": [
       "<AxesSubplot:>"
      ]
     },
     "execution_count": 202,
     "metadata": {},
     "output_type": "execute_result"
    },
    {
     "data": {
      "image/png": "[encoded data removed]",
      "text/plain": [
       "<Figure size 432x288 with 1 Axes>"
      ]
     },
     "metadata": {
      "needs_background": "light"
     },
     "output_type": "display_data"
    }
   ],
   "source": [
    "# mengambil sample\n",
    "nSample = 250\n",
    "sampleDfGandum = dfGandum.sample(nSample)\n",
    "\n",
    "columnName = \"Keliling\"\n",
    "\n",
    "# 1. Hipotesis  nol\n",
    "hipotesisNol = \"P(X < 100) = 0.05\"\n",
    "\n",
    "# 2. Hipotesis alternatif\n",
    "hipotesisAlternatif = \"P(X < 100) < 0.05\"\n",
    "\n",
    "# 3. Tingkat signifikan alpha\n",
    "alpha = 0.05\n",
    "\n",
    "# 4. Uji statistik dan daerah kritis\n",
    "nilaiKritis = norm.ppf(1 - alpha)\n",
    "daerahKritis = f\"Z > {nilaiKritis:.4f} atau Z < {-1 * nilaiKritis:.4f}\"\n",
    "\n",
    "# 5. Nilai uji statistik dan p-value\n",
    "countKelilingBelow100 = len(sampleDfGandum[columnName].loc[sampleDfGandum[columnName] < 100])\n",
    "\n",
    "Z = ((countKelilingBelow100 / nSample) - 0.05) / math.sqrt(0.05 * 0.95 / nSample)\n",
    "\n",
    "pValue = 1 - norm.sf(Z) * 2\n",
    "\n",
    "# 6. Keputusan\n",
    "tolakHipotesisNolZ = Z < -1 * nilaiKritis\n",
    "tolakHipotesisNolP = pValue < alpha\n",
    "\n",
    "tolakHipotesisNolZText = f\"Daerah kritis = {daerahKritis}, dan Z = {Z}, maka {'' if tolakHipotesisNolZ else 'gagal '} tolak H0  \"\n",
    "tolakHipotesisNolPText = f\"α = {alpha}, dan p-value = {pValue}, maka {'' if tolakHipotesisNolP else 'gagal '} tolak H0  \"\n",
    "\n",
    "soal4eText = f\"\"\"\n",
    "### Soal 4.e\n",
    "Proporsi nilai Keliling yang kurang dari 100, adalah kurang dari 5% ?\n",
    "\n",
    "#### Enam langkah testing\n",
    "##### 1. Tentukan Hipotesis nol (H0: θ = θ0), dimana θ bisa berupa μ, σ^2, p, atau data lain  \n",
    "##### berdistribusi tertentu (normal, binomial, dsc.).  \n",
    "\n",
    "H0 : {hipotesisNol}  \n",
    "  \n",
    "##### 2. Pilih hipotesis alternatif H1 salah dari dari θ > θ0, θ < θ0, atau θ ≠ θ0  \n",
    "\n",
    "H1 : {hipotesisAlternatif}  \n",
    "  \n",
    "##### 3. Tentukan tingkat signifikan α.  \n",
    "\n",
    "α = {alpha}  \n",
    "  \n",
    "##### 4. Tentukan uji statistik yang sesuai dan tentukan daerah kritis.  \n",
    "  \n",
    "Nilai kritisnya adalah {nilaiKritis:.4f}  \n",
    "Maka daerah kritisnya adalah {daerahKritis}\n",
    "  \n",
    "##### 5. Hitung nilai uji statistik dari data sample. Hitung p-value sesuai dengan uji statistik yang digunakan.  \n",
    "\n",
    "Z = {Z:.4f}  \n",
    "  \n",
    "p-value = P(Z > {Z:.4f}) = 1 - P(Z < {Z:.4f}) = {pValue}  \n",
    "  \n",
    "##### 6. Ambil keputusan dengan TOLAK H0 jika nilai uji terletak di daerah kritis atau dengan tes  \n",
    "##### signifikan, TOLAK H0 jika p-value lebih kecil dibanding tingkat signifikansi α yang diinginkan  \n",
    "\n",
    "{tolakHipotesisNolZText}  \n",
    "{tolakHipotesisNolPText}  \n",
    "\n",
    "\"\"\"\n",
    "\n",
    "displayMarkdown(soal4eText)\n",
    "\n",
    "sampleDfGandum.boxplot(columnName)"
   ]
  }
 ],
 "metadata": {
  "kernelspec": {
   "display_name": "Python 3",
   "language": "python",
   "name": "python3"
  },
  "language_info": {
   "codemirror_mode": {
    "name": "ipython",
    "version": 3
   },
   "file_extension": ".py",
   "mimetype": "text/x-python",
   "name": "python",
   "nbconvert_exporter": "python",
   "pygments_lexer": "ipython3",
   "version": "3.8.5"
  }
 },
 "nbformat": 4,
 "nbformat_minor": 5
}
