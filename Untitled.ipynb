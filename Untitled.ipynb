{
  "nbformat": 4,
  "nbformat_minor": 5,
  "metadata": {
    "kernelspec": {
      "display_name": "Python 3",
      "language": "python",
      "name": "python3"
    },
    "language_info": {
      "codemirror_mode": {
        "name": "ipython",
        "version": 3
      },
      "file_extension": ".py",
      "mimetype": "text/x-python",
      "name": "python",
      "nbconvert_exporter": "python",
      "pygments_lexer": "ipython3",
      "version": "3.8.5"
    },
    "colab": {
      "name": "Untitled.ipynb",
      "provenance": []
    }
  },
  "cells": [
    {
      "cell_type": "code",
      "metadata": {
        "id": "c50a1379"
      },
      "source": [
        "# import dependencies\n",
        "import pandas as pd\n",
        "import matplotlib.pyplot as plt\n",
        "import seaborn as sns\n",
        "import math\n",
        "from IPython.display import Markdown, display\n",
        "from scipy.stats import normaltest, norm\n",
        "\n",
        "# displaying markdown for documentation\n",
        "def displayMarkdown(text):\n",
        "    display(Markdown(text))"
      ],
      "id": "c50a1379",
      "execution_count": 43,
      "outputs": []
    },
    {
      "cell_type": "code",
      "metadata": {
        "colab": {
          "base_uri": "https://localhost:8080/",
          "height": 575
        },
        "id": "a309d600",
        "outputId": "2c47e0da-6fd0-467a-eb61-7373368215bf"
      },
      "source": [
        "# Introduction\n",
        "\n",
        "introdcutionText = \"\"\"\n",
        "# Tubes 1 IF 2220 Probabilitas dan Statistika\n",
        "\n",
        "Dibuat oleh:  \n",
        "Stefanus 13519101  \n",
        "Nathaniel Jason 13519108  \n",
        "\n",
        "### Soal\n",
        "1. Menulis deskripsi statistika (Descriptive Statistics) dari semua kolom pada data yang bersifat\n",
        "numerik, terdiri dari mean, median, modus, standar deviasi, variansi, range, nilai minimum,\n",
        "maksimum, kuartil, IQR, skewness dan kurtosis. Boleh juga ditambahkan deskripsi lain.  \n",
        "2. Membuat Visualisasi plot distribusi, dalam bentuk histogram dan boxplot untuk setiap\n",
        "kolom numerik. Berikan uraian penjelasan kondisi setiap kolom berdasarkan kedua plot\n",
        "tersebut.  \n",
        "3. Menentukan setiap kolom numerik berdistribusi normal atau tidak. Gunakan normality test\n",
        "yang dikaitkan dengan histogram plot.  \n",
        "4. Melakukan test hipotesis 1 sampel, dengan menuliskan 6 langkah testing dan menampilkan\n",
        "juga boxplotnya untuk kolom/bagian yang bersesuaian.  \n",
        "    a. Nilai rata-rata Daerah di atas 4700?  \n",
        "    b. Nilai Rata-rata Sumbu Utama tidak sama dengan 116?  \n",
        "    c. Nilai Rata-rata 20 baris pertama kolom Sumbu Kecil bukan 50?  \n",
        "    d. Proporsi nilai Diameter yang lebih dari 85, adalah tidak sama dengan 15% ?  \n",
        "    e. Proporsi nilai Keliling yang kurang dari 100, adalah kurang dari 5% ?  \n",
        "5. Melakukan test hipotesis 2 sampel, dengan menuliskan 6 langkah testing dan menampilkan\n",
        "juga boxplotnya untuk kolom/bagian yang bersesuaian.  \n",
        "    a. Data kolom AreaBulatan dibagi 2 sama rata: bagian awal dan bagian akhir kolom.  \n",
        "    Benarkah rata-rata kedua bagian tersebut sama?  \n",
        "    b. Data kolom Kadar Air dibagi 2 sama rata: bagian awal dan bagian akhir kolom. Benarkah  \n",
        "    rata-rata bagian awal lebih besar dari pada bagian akhir sebesar 0.2?  \n",
        "    c. Rata-rata 20 baris pertama kolom Bulatan sama dengan 20 baris terakhirnya?  \n",
        "    d. Proporsi nilai bagian awal Ransum yang lebih dari 2, adalah lebih besar daripada,  \n",
        "    proporsi nilai yang sama di bagian akhir Ransum?  \n",
        "    e. Bagian awal kolom Diameter memiliki variansi yang sama dengan bagian akhirnya?  \n",
        "6. Test korelasi: tentukan apakah setiap kolom non-target berkorelasi dengan kolom target,  \n",
        "dengan menggambarkan juga scatter plot nya. Gunakan correlation test.  \n",
        "\"\"\"\n",
        "\n",
        "displayMarkdown(introdcutionText)"
      ],
      "id": "a309d600",
      "execution_count": 44,
      "outputs": [
        {
          "output_type": "display_data",
          "data": {
            "text/markdown": "\n# Tubes 1 IF 2220 Probabilitas dan Statistika\n\nDibuat oleh:  \nStefanus 13519101  \nNathaniel Jason 13519108  \n\n### Soal\n1. Menulis deskripsi statistika (Descriptive Statistics) dari semua kolom pada data yang bersifat\nnumerik, terdiri dari mean, median, modus, standar deviasi, variansi, range, nilai minimum,\nmaksimum, kuartil, IQR, skewness dan kurtosis. Boleh juga ditambahkan deskripsi lain.  \n2. Membuat Visualisasi plot distribusi, dalam bentuk histogram dan boxplot untuk setiap\nkolom numerik. Berikan uraian penjelasan kondisi setiap kolom berdasarkan kedua plot\ntersebut.  \n3. Menentukan setiap kolom numerik berdistribusi normal atau tidak. Gunakan normality test\nyang dikaitkan dengan histogram plot.  \n4. Melakukan test hipotesis 1 sampel, dengan menuliskan 6 langkah testing dan menampilkan\njuga boxplotnya untuk kolom/bagian yang bersesuaian.  \n    a. Nilai rata-rata Daerah di atas 4700?  \n    b. Nilai Rata-rata Sumbu Utama tidak sama dengan 116?  \n    c. Nilai Rata-rata 20 baris pertama kolom Sumbu Kecil bukan 50?  \n    d. Proporsi nilai Diameter yang lebih dari 85, adalah tidak sama dengan 15% ?  \n    e. Proporsi nilai Keliling yang kurang dari 100, adalah kurang dari 5% ?  \n5. Melakukan test hipotesis 2 sampel, dengan menuliskan 6 langkah testing dan menampilkan\njuga boxplotnya untuk kolom/bagian yang bersesuaian.  \n    a. Data kolom AreaBulatan dibagi 2 sama rata: bagian awal dan bagian akhir kolom.  \n    Benarkah rata-rata kedua bagian tersebut sama?  \n    b. Data kolom Kadar Air dibagi 2 sama rata: bagian awal dan bagian akhir kolom. Benarkah  \n    rata-rata bagian awal lebih besar dari pada bagian akhir sebesar 0.2?  \n    c. Rata-rata 20 baris pertama kolom Bulatan sama dengan 20 baris terakhirnya?  \n    d. Proporsi nilai bagian awal Ransum yang lebih dari 2, adalah lebih besar daripada,  \n    proporsi nilai yang sama di bagian akhir Ransum?  \n    e. Bagian awal kolom Diameter memiliki variansi yang sama dengan bagian akhirnya?  \n6. Test korelasi: tentukan apakah setiap kolom non-target berkorelasi dengan kolom target,  \ndengan menggambarkan juga scatter plot nya. Gunakan correlation test.  \n",
            "text/plain": [
              "<IPython.core.display.Markdown object>"
            ]
          },
          "metadata": {
            "tags": []
          }
        }
      ]
    },
    {
      "cell_type": "code",
      "metadata": {
        "colab": {
          "base_uri": "https://localhost:8080/",
          "height": 253
        },
        "id": "a5d0de4c",
        "outputId": "f1843f2e-5189-4fc8-bbb4-99dc26171721"
      },
      "source": [
        "setupText = \"\"\"\n",
        "## Setup dataframe\n",
        "\"\"\"\n",
        "\n",
        "displayMarkdown(setupText)\n",
        "\n",
        "datasetGandumFilename = \"Gandum.csv\"\n",
        "columnNamesGandum = [\n",
        "    \"ID\", \n",
        "    \"Daerah\", \n",
        "    \"SumbuUtama\", \n",
        "    \"SumbuKecil\", \n",
        "    \"Keunikan\", \n",
        "    \"AreaBulatan\", \n",
        "    \"Diameter\", \n",
        "    \"KadarAir\", \n",
        "    \"Keliling\", \n",
        "    \"Bulatan\", \n",
        "    \"Ransum\", \n",
        "    \"Target\"\n",
        "]\n",
        "dfGandum = pd.read_csv(f\"Gandum.csv\", names = columnNamesGandum)\n",
        "\n",
        "dfGandum.head()\n"
      ],
      "id": "a5d0de4c",
      "execution_count": 45,
      "outputs": [
        {
          "output_type": "display_data",
          "data": {
            "text/markdown": "\n## Setup dataframe\n",
            "text/plain": [
              "<IPython.core.display.Markdown object>"
            ]
          },
          "metadata": {
            "tags": []
          }
        },
        {
          "output_type": "execute_result",
          "data": {
            "text/html": [
              "<div>\n",
              "<style scoped>\n",
              "    .dataframe tbody tr th:only-of-type {\n",
              "        vertical-align: middle;\n",
              "    }\n",
              "\n",
              "    .dataframe tbody tr th {\n",
              "        vertical-align: top;\n",
              "    }\n",
              "\n",
              "    .dataframe thead th {\n",
              "        text-align: right;\n",
              "    }\n",
              "</style>\n",
              "<table border=\"1\" class=\"dataframe\">\n",
              "  <thead>\n",
              "    <tr style=\"text-align: right;\">\n",
              "      <th></th>\n",
              "      <th>ID</th>\n",
              "      <th>Daerah</th>\n",
              "      <th>SumbuUtama</th>\n",
              "      <th>SumbuKecil</th>\n",
              "      <th>Keunikan</th>\n",
              "      <th>AreaBulatan</th>\n",
              "      <th>Diameter</th>\n",
              "      <th>KadarAir</th>\n",
              "      <th>Keliling</th>\n",
              "      <th>Bulatan</th>\n",
              "      <th>Ransum</th>\n",
              "      <th>Target</th>\n",
              "    </tr>\n",
              "  </thead>\n",
              "  <tbody>\n",
              "    <tr>\n",
              "      <th>0</th>\n",
              "      <td>1</td>\n",
              "      <td>5781</td>\n",
              "      <td>128.288875</td>\n",
              "      <td>58.470846</td>\n",
              "      <td>0.890095</td>\n",
              "      <td>5954</td>\n",
              "      <td>85.793926</td>\n",
              "      <td>0.674090</td>\n",
              "      <td>316.756</td>\n",
              "      <td>0.724041</td>\n",
              "      <td>2.194066</td>\n",
              "      <td>1</td>\n",
              "    </tr>\n",
              "    <tr>\n",
              "      <th>1</th>\n",
              "      <td>2</td>\n",
              "      <td>4176</td>\n",
              "      <td>109.348294</td>\n",
              "      <td>49.837688</td>\n",
              "      <td>0.890098</td>\n",
              "      <td>4277</td>\n",
              "      <td>72.918093</td>\n",
              "      <td>0.596231</td>\n",
              "      <td>260.346</td>\n",
              "      <td>0.774227</td>\n",
              "      <td>2.194088</td>\n",
              "      <td>1</td>\n",
              "    </tr>\n",
              "    <tr>\n",
              "      <th>2</th>\n",
              "      <td>3</td>\n",
              "      <td>4555</td>\n",
              "      <td>114.427991</td>\n",
              "      <td>52.151207</td>\n",
              "      <td>0.890105</td>\n",
              "      <td>4706</td>\n",
              "      <td>76.155145</td>\n",
              "      <td>0.776641</td>\n",
              "      <td>279.606</td>\n",
              "      <td>0.732159</td>\n",
              "      <td>2.194158</td>\n",
              "      <td>1</td>\n",
              "    </tr>\n",
              "    <tr>\n",
              "      <th>3</th>\n",
              "      <td>4</td>\n",
              "      <td>4141</td>\n",
              "      <td>108.701191</td>\n",
              "      <td>49.457349</td>\n",
              "      <td>0.890499</td>\n",
              "      <td>4236</td>\n",
              "      <td>72.611879</td>\n",
              "      <td>0.633180</td>\n",
              "      <td>260.478</td>\n",
              "      <td>0.766960</td>\n",
              "      <td>2.197877</td>\n",
              "      <td>1</td>\n",
              "    </tr>\n",
              "    <tr>\n",
              "      <th>4</th>\n",
              "      <td>5</td>\n",
              "      <td>5273</td>\n",
              "      <td>122.747869</td>\n",
              "      <td>55.757848</td>\n",
              "      <td>0.890876</td>\n",
              "      <td>5431</td>\n",
              "      <td>81.937733</td>\n",
              "      <td>0.669842</td>\n",
              "      <td>302.730</td>\n",
              "      <td>0.723031</td>\n",
              "      <td>2.201446</td>\n",
              "      <td>1</td>\n",
              "    </tr>\n",
              "  </tbody>\n",
              "</table>\n",
              "</div>"
            ],
            "text/plain": [
              "   ID  Daerah  SumbuUtama  SumbuKecil  ...  Keliling   Bulatan    Ransum  Target\n",
              "0   1    5781  128.288875   58.470846  ...   316.756  0.724041  2.194066       1\n",
              "1   2    4176  109.348294   49.837688  ...   260.346  0.774227  2.194088       1\n",
              "2   3    4555  114.427991   52.151207  ...   279.606  0.732159  2.194158       1\n",
              "3   4    4141  108.701191   49.457349  ...   260.478  0.766960  2.197877       1\n",
              "4   5    5273  122.747869   55.757848  ...   302.730  0.723031  2.201446       1\n",
              "\n",
              "[5 rows x 12 columns]"
            ]
          },
          "metadata": {
            "tags": []
          },
          "execution_count": 45
        }
      ]
    },
    {
      "cell_type": "code",
      "metadata": {
        "colab": {
          "base_uri": "https://localhost:8080/",
          "height": 107
        },
        "id": "9xuIHklmsNt8",
        "outputId": "35914ee7-03f3-4615-a148-c8e42a39ba87"
      },
      "source": [
        "Soal1Text = \"\"\"\n",
        "## Soal 1\n",
        "Menulis deskripsi statistika (Descriptive Statistics) dari semua kolom pada data yang bersifat\n",
        "numerik, terdiri dari mean, median, modus, standar deviasi, variansi, range, nilai minimum,\n",
        "maksimum, kuartil, IQR, skewness dan kurtosis. Boleh juga ditambahkan deskripsi lain.\n",
        "\"\"\"\n",
        "\n",
        "displayMarkdown(Soal1Text)"
      ],
      "id": "9xuIHklmsNt8",
      "execution_count": 46,
      "outputs": [
        {
          "output_type": "display_data",
          "data": {
            "text/markdown": "\n## Soal 1\nMenulis deskripsi statistika (Descriptive Statistics) dari semua kolom pada data yang bersifat\nnumerik, terdiri dari mean, median, modus, standar deviasi, variansi, range, nilai minimum,\nmaksimum, kuartil, IQR, skewness dan kurtosis. Boleh juga ditambahkan deskripsi lain.\n",
            "text/plain": [
              "<IPython.core.display.Markdown object>"
            ]
          },
          "metadata": {
            "tags": []
          }
        }
      ]
    },
    {
      "cell_type": "code",
      "metadata": {
        "colab": {
          "base_uri": "https://localhost:8080/",
          "height": 320
        },
        "id": "bcfeJj3ttJ_u",
        "outputId": "8ca697f0-463f-41fc-e205-62850e1db03f"
      },
      "source": [
        "dfGandum.describe()"
      ],
      "id": "bcfeJj3ttJ_u",
      "execution_count": 47,
      "outputs": [
        {
          "output_type": "execute_result",
          "data": {
            "text/html": [
              "<div>\n",
              "<style scoped>\n",
              "    .dataframe tbody tr th:only-of-type {\n",
              "        vertical-align: middle;\n",
              "    }\n",
              "\n",
              "    .dataframe tbody tr th {\n",
              "        vertical-align: top;\n",
              "    }\n",
              "\n",
              "    .dataframe thead th {\n",
              "        text-align: right;\n",
              "    }\n",
              "</style>\n",
              "<table border=\"1\" class=\"dataframe\">\n",
              "  <thead>\n",
              "    <tr style=\"text-align: right;\">\n",
              "      <th></th>\n",
              "      <th>ID</th>\n",
              "      <th>Daerah</th>\n",
              "      <th>SumbuUtama</th>\n",
              "      <th>SumbuKecil</th>\n",
              "      <th>Keunikan</th>\n",
              "      <th>AreaBulatan</th>\n",
              "      <th>Diameter</th>\n",
              "      <th>KadarAir</th>\n",
              "      <th>Keliling</th>\n",
              "      <th>Bulatan</th>\n",
              "      <th>Ransum</th>\n",
              "      <th>Target</th>\n",
              "    </tr>\n",
              "  </thead>\n",
              "  <tbody>\n",
              "    <tr>\n",
              "      <th>count</th>\n",
              "      <td>500.000000</td>\n",
              "      <td>500.000000</td>\n",
              "      <td>500.000000</td>\n",
              "      <td>500.000000</td>\n",
              "      <td>500.000000</td>\n",
              "      <td>500.000000</td>\n",
              "      <td>500.000000</td>\n",
              "      <td>500.000000</td>\n",
              "      <td>500.000000</td>\n",
              "      <td>500.000000</td>\n",
              "      <td>500.000000</td>\n",
              "      <td>500.000000</td>\n",
              "    </tr>\n",
              "    <tr>\n",
              "      <th>mean</th>\n",
              "      <td>250.500000</td>\n",
              "      <td>4801.246000</td>\n",
              "      <td>116.045171</td>\n",
              "      <td>53.715246</td>\n",
              "      <td>0.878764</td>\n",
              "      <td>4937.048000</td>\n",
              "      <td>77.771158</td>\n",
              "      <td>0.648372</td>\n",
              "      <td>281.479722</td>\n",
              "      <td>0.761737</td>\n",
              "      <td>2.150915</td>\n",
              "      <td>1.502000</td>\n",
              "    </tr>\n",
              "    <tr>\n",
              "      <th>std</th>\n",
              "      <td>144.481833</td>\n",
              "      <td>986.395491</td>\n",
              "      <td>18.282626</td>\n",
              "      <td>4.071075</td>\n",
              "      <td>0.036586</td>\n",
              "      <td>1011.696255</td>\n",
              "      <td>8.056867</td>\n",
              "      <td>0.094367</td>\n",
              "      <td>37.335402</td>\n",
              "      <td>0.061702</td>\n",
              "      <td>0.249767</td>\n",
              "      <td>0.500497</td>\n",
              "    </tr>\n",
              "    <tr>\n",
              "      <th>min</th>\n",
              "      <td>1.000000</td>\n",
              "      <td>2522.000000</td>\n",
              "      <td>74.133114</td>\n",
              "      <td>39.906517</td>\n",
              "      <td>0.719916</td>\n",
              "      <td>2579.000000</td>\n",
              "      <td>56.666658</td>\n",
              "      <td>0.409927</td>\n",
              "      <td>197.015000</td>\n",
              "      <td>0.174590</td>\n",
              "      <td>1.440796</td>\n",
              "      <td>1.000000</td>\n",
              "    </tr>\n",
              "    <tr>\n",
              "      <th>25%</th>\n",
              "      <td>125.750000</td>\n",
              "      <td>4042.750000</td>\n",
              "      <td>104.116098</td>\n",
              "      <td>51.193576</td>\n",
              "      <td>0.863676</td>\n",
              "      <td>4170.250000</td>\n",
              "      <td>71.745308</td>\n",
              "      <td>0.572632</td>\n",
              "      <td>255.883000</td>\n",
              "      <td>0.731991</td>\n",
              "      <td>1.983939</td>\n",
              "      <td>1.000000</td>\n",
              "    </tr>\n",
              "    <tr>\n",
              "      <th>50%</th>\n",
              "      <td>250.500000</td>\n",
              "      <td>4735.000000</td>\n",
              "      <td>115.405140</td>\n",
              "      <td>53.731199</td>\n",
              "      <td>0.890045</td>\n",
              "      <td>4857.000000</td>\n",
              "      <td>77.645277</td>\n",
              "      <td>0.626117</td>\n",
              "      <td>280.045500</td>\n",
              "      <td>0.761288</td>\n",
              "      <td>2.193599</td>\n",
              "      <td>2.000000</td>\n",
              "    </tr>\n",
              "    <tr>\n",
              "      <th>75%</th>\n",
              "      <td>375.250000</td>\n",
              "      <td>5495.500000</td>\n",
              "      <td>129.046792</td>\n",
              "      <td>56.325158</td>\n",
              "      <td>0.907578</td>\n",
              "      <td>5654.250000</td>\n",
              "      <td>83.648598</td>\n",
              "      <td>0.726633</td>\n",
              "      <td>306.062500</td>\n",
              "      <td>0.796361</td>\n",
              "      <td>2.381612</td>\n",
              "      <td>2.000000</td>\n",
              "    </tr>\n",
              "    <tr>\n",
              "      <th>max</th>\n",
              "      <td>500.000000</td>\n",
              "      <td>7453.000000</td>\n",
              "      <td>227.928583</td>\n",
              "      <td>68.977700</td>\n",
              "      <td>0.914001</td>\n",
              "      <td>7720.000000</td>\n",
              "      <td>97.413830</td>\n",
              "      <td>0.878899</td>\n",
              "      <td>488.837000</td>\n",
              "      <td>0.904748</td>\n",
              "      <td>2.464809</td>\n",
              "      <td>2.000000</td>\n",
              "    </tr>\n",
              "  </tbody>\n",
              "</table>\n",
              "</div>"
            ],
            "text/plain": [
              "               ID       Daerah  SumbuUtama  ...     Bulatan      Ransum      Target\n",
              "count  500.000000   500.000000  500.000000  ...  500.000000  500.000000  500.000000\n",
              "mean   250.500000  4801.246000  116.045171  ...    0.761737    2.150915    1.502000\n",
              "std    144.481833   986.395491   18.282626  ...    0.061702    0.249767    0.500497\n",
              "min      1.000000  2522.000000   74.133114  ...    0.174590    1.440796    1.000000\n",
              "25%    125.750000  4042.750000  104.116098  ...    0.731991    1.983939    1.000000\n",
              "50%    250.500000  4735.000000  115.405140  ...    0.761288    2.193599    2.000000\n",
              "75%    375.250000  5495.500000  129.046792  ...    0.796361    2.381612    2.000000\n",
              "max    500.000000  7453.000000  227.928583  ...    0.904748    2.464809    2.000000\n",
              "\n",
              "[8 rows x 12 columns]"
            ]
          },
          "metadata": {
            "tags": []
          },
          "execution_count": 47
        }
      ]
    },
    {
      "cell_type": "code",
      "metadata": {
        "colab": {
          "base_uri": "https://localhost:8080/",
          "height": 107
        },
        "id": "9be3216e",
        "outputId": "cbe6860e-9132-4d31-c02d-f6dff4bf9266"
      },
      "source": [
        "soal2Text = \"\"\"\n",
        "## Soal 2\n",
        "Membuat Visualisasi plot distribusi, dalam bentuk histogram dan boxplot untuk setiap kolom numerik. Berikan uraian penjelasan kondisi setiap kolom berdasarkan kedua plot tersebut.\n",
        "\"\"\"\n",
        "\n",
        "displayMarkdown(soal2Text)"
      ],
      "id": "9be3216e",
      "execution_count": 48,
      "outputs": [
        {
          "output_type": "display_data",
          "data": {
            "text/markdown": "\n## Soal 2\nMembuat Visualisasi plot distribusi, dalam bentuk histogram dan boxplot untuk setiap kolom numerik. Berikan uraian penjelasan kondisi setiap kolom berdasarkan kedua plot tersebut.\n",
            "text/plain": [
              "<IPython.core.display.Markdown object>"
            ]
          },
          "metadata": {
            "tags": []
          }
        }
      ]
    },
    {
      "cell_type": "code",
      "metadata": {
        "colab": {
          "base_uri": "https://localhost:8080/",
          "height": 597
        },
        "id": "bd9bb358",
        "outputId": "666e3ad9-7d87-4990-df39-6c5714e54611"
      },
      "source": [
        "columnName = \"ID\"\n",
        "\n",
        "soal2VisualisationDescriptionText = f\"\"\"\n",
        "### {columnName}\n",
        "Distribusi kolom {columnName} adalah distribusi uniform\n",
        "\"\"\"\n",
        "displayMarkdown(soal2VisualisationDescriptionText)\n",
        "\n",
        "plt.hist(dfGandum[columnName])\n",
        "plt.show()\n",
        "dfGandum.boxplot(columnName)"
      ],
      "id": "bd9bb358",
      "execution_count": 49,
      "outputs": [
        {
          "output_type": "display_data",
          "data": {
            "text/markdown": "\n### ID\nDistribusi kolom ID adalah distribusi uniform\n",
            "text/plain": [
              "<IPython.core.display.Markdown object>"
            ]
          },
          "metadata": {
            "tags": []
          }
        },
        {
          "output_type": "display_data",
          "data": {
            "image/png": "[encoded data removed]",
            "text/plain": [
              "<Figure size 432x288 with 1 Axes>"
            ]
          },
          "metadata": {
            "tags": [],
            "needs_background": "light"
          }
        },
        {
          "output_type": "execute_result",
          "data": {
            "text/plain": [
              "<matplotlib.axes._subplots.AxesSubplot at 0x7f6da050d7d0>"
            ]
          },
          "metadata": {
            "tags": []
          },
          "execution_count": 49
        },
        {
          "output_type": "display_data",
          "data": {
            "image/png": "[encoded data removed]",
            "text/plain": [
              "<Figure size 432x288 with 1 Axes>"
            ]
          },
          "metadata": {
            "tags": [],
            "needs_background": "light"
          }
        }
      ]
    },
    {
      "cell_type": "code",
      "metadata": {
        "colab": {
          "base_uri": "https://localhost:8080/",
          "height": 597
        },
        "id": "9447412e",
        "outputId": "1901485c-bda0-4c33-dc1a-cb31068b43fa"
      },
      "source": [
        "columnName = \"Daerah\"\n",
        "\n",
        "soal2VisualisationDescriptionText = f\"\"\"\n",
        "### {columnName}\n",
        "Distribusi kolom {columnName} adalah cenderung distribusi normal. Tidak tampak outlier pada boxplot\n",
        "\"\"\"\n",
        "displayMarkdown(soal2VisualisationDescriptionText)\n",
        "\n",
        "plt.hist(dfGandum[columnName])\n",
        "plt.show()\n",
        "dfGandum.boxplot(columnName)"
      ],
      "id": "9447412e",
      "execution_count": 50,
      "outputs": [
        {
          "output_type": "display_data",
          "data": {
            "text/markdown": "\n### Daerah\nDistribusi kolom Daerah adalah cenderung distribusi normal. Tidak tampak outlier pada boxplot\n",
            "text/plain": [
              "<IPython.core.display.Markdown object>"
            ]
          },
          "metadata": {
            "tags": []
          }
        },
        {
          "output_type": "display_data",
          "data": {
            "image/png": "[encoded data removed]",
            "text/plain": [
              "<Figure size 432x288 with 1 Axes>"
            ]
          },
          "metadata": {
            "tags": [],
            "needs_background": "light"
          }
        },
        {
          "output_type": "execute_result",
          "data": {
            "text/plain": [
              "<matplotlib.axes._subplots.AxesSubplot at 0x7f6da059ce10>"
            ]
          },
          "metadata": {
            "tags": []
          },
          "execution_count": 50
        },
        {
          "output_type": "display_data",
          "data": {
            "image/png": "[encoded data removed]",
            "text/plain": [
              "<Figure size 432x288 with 1 Axes>"
            ]
          },
          "metadata": {
            "tags": [],
            "needs_background": "light"
          }
        }
      ]
    },
    {
      "cell_type": "code",
      "metadata": {
        "colab": {
          "base_uri": "https://localhost:8080/",
          "height": 598
        },
        "id": "2ce14d96",
        "outputId": "bba2c239-b34d-47d0-b263-1b7d287689d9"
      },
      "source": [
        "columnName = \"SumbuUtama\"\n",
        "\n",
        "soal2VisualisationDescriptionText = f\"\"\"\n",
        "### {columnName}\n",
        "Distribusi kolom {columnName} adalah cenderung distribusi normal. Terdapat outlier di boxplot pada sekitar 220\n",
        "\"\"\"\n",
        "displayMarkdown(soal2VisualisationDescriptionText)\n",
        "\n",
        "plt.hist(dfGandum[columnName])\n",
        "plt.show()\n",
        "dfGandum.boxplot(columnName)"
      ],
      "id": "2ce14d96",
      "execution_count": 51,
      "outputs": [
        {
          "output_type": "display_data",
          "data": {
            "text/markdown": "\n### SumbuUtama\nDistribusi kolom SumbuUtama adalah cenderung distribusi normal. Terdapat outlier di boxplot pada sekitar 220\n",
            "text/plain": [
              "<IPython.core.display.Markdown object>"
            ]
          },
          "metadata": {
            "tags": []
          }
        },
        {
          "output_type": "display_data",
          "data": {
            "image/png": "[encoded data removed]",
            "text/plain": [
              "<Figure size 432x288 with 1 Axes>"
            ]
          },
          "metadata": {
            "tags": [],
            "needs_background": "light"
          }
        },
        {
          "output_type": "execute_result",
          "data": {
            "text/plain": [
              "<matplotlib.axes._subplots.AxesSubplot at 0x7f6da37e3550>"
            ]
          },
          "metadata": {
            "tags": []
          },
          "execution_count": 51
        },
        {
          "output_type": "display_data",
          "data": {
            "image/png": "[encoded data removed]",
            "text/plain": [
              "<Figure size 432x288 with 1 Axes>"
            ]
          },
          "metadata": {
            "tags": [],
            "needs_background": "light"
          }
        }
      ]
    },
    {
      "cell_type": "code",
      "metadata": {
        "colab": {
          "base_uri": "https://localhost:8080/",
          "height": 616
        },
        "id": "65bc67d0",
        "outputId": "2a7854b6-ba3a-4840-d803-5322b29b53da"
      },
      "source": [
        "columnName = \"SumbuKecil\"\n",
        "\n",
        "soal2VisualisationDescriptionText = f\"\"\"\n",
        "### {columnName}\n",
        "Distribusi kolom {columnName} terlihat seperti distribusi normal. Terdapat outlier pada range 40 sampai 45 dan  \n",
        "pada sekitar 65 dan 70\n",
        "\"\"\"\n",
        "displayMarkdown(soal2VisualisationDescriptionText)\n",
        "\n",
        "plt.hist(dfGandum[columnName])\n",
        "plt.show()\n",
        "dfGandum.boxplot(columnName)"
      ],
      "id": "65bc67d0",
      "execution_count": 52,
      "outputs": [
        {
          "output_type": "display_data",
          "data": {
            "text/markdown": "\n### SumbuKecil\nDistribusi kolom SumbuKecil terlihat seperti distribusi normal. Terdapat outlier pada range 40 sampai 45 dan  \npada sekitar 65 dan 70\n",
            "text/plain": [
              "<IPython.core.display.Markdown object>"
            ]
          },
          "metadata": {
            "tags": []
          }
        },
        {
          "output_type": "display_data",
          "data": {
            "image/png": "[encoded data removed]",
            "text/plain": [
              "<Figure size 432x288 with 1 Axes>"
            ]
          },
          "metadata": {
            "tags": [],
            "needs_background": "light"
          }
        },
        {
          "output_type": "execute_result",
          "data": {
            "text/plain": [
              "<matplotlib.axes._subplots.AxesSubplot at 0x7f6da3b32390>"
            ]
          },
          "metadata": {
            "tags": []
          },
          "execution_count": 52
        },
        {
          "output_type": "display_data",
          "data": {
            "image/png": "[encoded data removed]",
            "text/plain": [
              "<Figure size 432x288 with 1 Axes>"
            ]
          },
          "metadata": {
            "tags": [],
            "needs_background": "light"
          }
        }
      ]
    },
    {
      "cell_type": "code",
      "metadata": {
        "colab": {
          "base_uri": "https://localhost:8080/",
          "height": 615
        },
        "id": "024e89d3",
        "outputId": "1cd7df06-8510-400c-ba00-d380e1c40a60"
      },
      "source": [
        "columnName = \"Keunikan\"\n",
        "\n",
        "soal2VisualisationDescriptionText = f\"\"\"\n",
        "### {columnName}\n",
        "Distribusi kolom {columnName} terlihat seperti distribusi half-normal terbalik. Terdapat banyak outlier pada boxplot.  \n",
        "Data banyak yang ada dibawah kuartil pertama dikurangi satu setengah kuartil range. \n",
        "\"\"\"\n",
        "displayMarkdown(soal2VisualisationDescriptionText)\n",
        "\n",
        "plt.hist(dfGandum[columnName])\n",
        "plt.show()\n",
        "dfGandum.boxplot(columnName)"
      ],
      "id": "024e89d3",
      "execution_count": 53,
      "outputs": [
        {
          "output_type": "display_data",
          "data": {
            "text/markdown": "\n### Keunikan\nDistribusi kolom Keunikan terlihat seperti distribusi half-normal terbalik. Terdapat banyak outlier pada boxplot.  \nData banyak yang ada dibawah kuartil pertama dikurangi satu setengah kuartil range. \n",
            "text/plain": [
              "<IPython.core.display.Markdown object>"
            ]
          },
          "metadata": {
            "tags": []
          }
        },
        {
          "output_type": "display_data",
          "data": {
            "image/png": "[encoded data removed]",
            "text/plain": [
              "<Figure size 432x288 with 1 Axes>"
            ]
          },
          "metadata": {
            "tags": [],
            "needs_background": "light"
          }
        },
        {
          "output_type": "execute_result",
          "data": {
            "text/plain": [
              "<matplotlib.axes._subplots.AxesSubplot at 0x7f6da3dd6490>"
            ]
          },
          "metadata": {
            "tags": []
          },
          "execution_count": 53
        },
        {
          "output_type": "display_data",
          "data": {
            "image/png": "[encoded data removed]",
            "text/plain": [
              "<Figure size 432x288 with 1 Axes>"
            ]
          },
          "metadata": {
            "tags": [],
            "needs_background": "light"
          }
        }
      ]
    },
    {
      "cell_type": "code",
      "metadata": {
        "colab": {
          "base_uri": "https://localhost:8080/",
          "height": 615
        },
        "id": "f990fb15",
        "outputId": "1b900631-41d2-49c6-974d-7e8a49fef5e4"
      },
      "source": [
        "columnName = \"AreaBulatan\"\n",
        "\n",
        "soal2VisualisationDescriptionText = f\"\"\"\n",
        "### {columnName}\n",
        "Distribusi kolom {columnName} adalah normal. Tidak terdapat outlier pada boxplot.  \n",
        "Skewness bernilai cenderung positif dan varians bernilai cenderung tinggi.\n",
        "\"\"\"\n",
        "displayMarkdown(soal2VisualisationDescriptionText)\n",
        "\n",
        "plt.hist(dfGandum[columnName])\n",
        "plt.show()\n",
        "dfGandum.boxplot(columnName)"
      ],
      "id": "f990fb15",
      "execution_count": 54,
      "outputs": [
        {
          "output_type": "display_data",
          "data": {
            "text/markdown": "\n### AreaBulatan\nDistribusi kolom AreaBulatan adalah normal. Tidak terdapat outlier pada boxplot.  \nSkewness bernilai cenderung positif dan varians bernilai cenderung tinggi.\n",
            "text/plain": [
              "<IPython.core.display.Markdown object>"
            ]
          },
          "metadata": {
            "tags": []
          }
        },
        {
          "output_type": "display_data",
          "data": {
            "image/png": "[encoded data removed]",
            "text/plain": [
              "<Figure size 432x288 with 1 Axes>"
            ]
          },
          "metadata": {
            "tags": [],
            "needs_background": "light"
          }
        },
        {
          "output_type": "execute_result",
          "data": {
            "text/plain": [
              "<matplotlib.axes._subplots.AxesSubplot at 0x7f6da0624290>"
            ]
          },
          "metadata": {
            "tags": []
          },
          "execution_count": 54
        },
        {
          "output_type": "display_data",
          "data": {
            "image/png": "[encoded data removed]",
            "text/plain": [
              "<Figure size 432x288 with 1 Axes>"
            ]
          },
          "metadata": {
            "tags": [],
            "needs_background": "light"
          }
        }
      ]
    },
    {
      "cell_type": "code",
      "metadata": {
        "colab": {
          "base_uri": "https://localhost:8080/",
          "height": 615
        },
        "id": "d28bbaec",
        "outputId": "d60d105d-c9d8-4744-b373-b0c62c9cfd23"
      },
      "source": [
        "columnName = \"Diameter\"\n",
        "\n",
        "soal2VisualisationDescriptionText = f\"\"\"\n",
        "### {columnName}\n",
        "Distribusi kolom {columnName} adalah distribusi normal. Tidak ada outlier pada boxplot.  \n",
        "Standar deviasi memiliki nilai yang cenderung besar.\n",
        "\"\"\"\n",
        "displayMarkdown(soal2VisualisationDescriptionText)\n",
        "\n",
        "plt.hist(dfGandum[columnName])\n",
        "plt.show()\n",
        "dfGandum.boxplot(columnName)"
      ],
      "id": "d28bbaec",
      "execution_count": 55,
      "outputs": [
        {
          "output_type": "display_data",
          "data": {
            "text/markdown": "\n### Diameter\nDistribusi kolom Diameter adalah distribusi normal. Tidak ada outlier pada boxplot.  \nStandar deviasi memiliki nilai yang cenderung besar.\n",
            "text/plain": [
              "<IPython.core.display.Markdown object>"
            ]
          },
          "metadata": {
            "tags": []
          }
        },
        {
          "output_type": "display_data",
          "data": {
            "image/png": "[encoded data removed]",
            "text/plain": [
              "<Figure size 432x288 with 1 Axes>"
            ]
          },
          "metadata": {
            "tags": [],
            "needs_background": "light"
          }
        },
        {
          "output_type": "execute_result",
          "data": {
            "text/plain": [
              "<matplotlib.axes._subplots.AxesSubplot at 0x7f6da0811c10>"
            ]
          },
          "metadata": {
            "tags": []
          },
          "execution_count": 55
        },
        {
          "output_type": "display_data",
          "data": {
            "image/png": "[encoded data removed]",
            "text/plain": [
              "<Figure size 432x288 with 1 Axes>"
            ]
          },
          "metadata": {
            "tags": [],
            "needs_background": "light"
          }
        }
      ]
    },
    {
      "cell_type": "code",
      "metadata": {
        "colab": {
          "base_uri": "https://localhost:8080/",
          "height": 600
        },
        "id": "b7fa2cd5",
        "outputId": "b20eebd6-5b7e-47c2-b632-15b87c91a292"
      },
      "source": [
        "columnName = \"KadarAir\"\n",
        "\n",
        "soal2VisualisationDescriptionText = f\"\"\"\n",
        "### {columnName}\n",
        "Distribusi kolom {columnName} terlihat seperti distribusi gamma. Tidak terdapat outlier pada boxplot.\n",
        "\"\"\"\n",
        "displayMarkdown(soal2VisualisationDescriptionText)\n",
        "\n",
        "plt.hist(dfGandum[columnName])\n",
        "plt.show()\n",
        "dfGandum.boxplot(columnName)"
      ],
      "id": "b7fa2cd5",
      "execution_count": 56,
      "outputs": [
        {
          "output_type": "display_data",
          "data": {
            "text/markdown": "\n### KadarAir\nDistribusi kolom KadarAir terlihat seperti distribusi gamma. Tidak terdapat outlier pada boxplot.\n",
            "text/plain": [
              "<IPython.core.display.Markdown object>"
            ]
          },
          "metadata": {
            "tags": []
          }
        },
        {
          "output_type": "display_data",
          "data": {
            "image/png": "[encoded data removed]",
            "text/plain": [
              "<Figure size 432x288 with 1 Axes>"
            ]
          },
          "metadata": {
            "tags": [],
            "needs_background": "light"
          }
        },
        {
          "output_type": "execute_result",
          "data": {
            "text/plain": [
              "<matplotlib.axes._subplots.AxesSubplot at 0x7f6da070db10>"
            ]
          },
          "metadata": {
            "tags": []
          },
          "execution_count": 56
        },
        {
          "output_type": "display_data",
          "data": {
            "image/png": "[encoded data removed]",
            "text/plain": [
              "<Figure size 432x288 with 1 Axes>"
            ]
          },
          "metadata": {
            "tags": [],
            "needs_background": "light"
          }
        }
      ]
    },
    {
      "cell_type": "code",
      "metadata": {
        "colab": {
          "base_uri": "https://localhost:8080/",
          "height": 599
        },
        "id": "4a635801",
        "outputId": "6bd6eec9-8589-4459-dfab-bcc0ba3e17ea"
      },
      "source": [
        "columnName = \"Keliling\"\n",
        "\n",
        "soal2VisualisationDescriptionText = f\"\"\"\n",
        "### {columnName}\n",
        "Distribusi kolom {columnName} adalah cenderung distribusi normal. Terdapat outlier pada boxplot.\n",
        "\"\"\"\n",
        "displayMarkdown(soal2VisualisationDescriptionText)\n",
        "\n",
        "plt.hist(dfGandum[columnName])\n",
        "plt.show()\n",
        "dfGandum.boxplot(columnName)"
      ],
      "id": "4a635801",
      "execution_count": 57,
      "outputs": [
        {
          "output_type": "display_data",
          "data": {
            "text/markdown": "\n### Keliling\nDistribusi kolom Keliling adalah cenderung distribusi normal. Terdapat outlier pada boxplot.\n",
            "text/plain": [
              "<IPython.core.display.Markdown object>"
            ]
          },
          "metadata": {
            "tags": []
          }
        },
        {
          "output_type": "display_data",
          "data": {
            "image/png": "[encoded data removed]",
            "text/plain": [
              "<Figure size 432x288 with 1 Axes>"
            ]
          },
          "metadata": {
            "tags": [],
            "needs_background": "light"
          }
        },
        {
          "output_type": "execute_result",
          "data": {
            "text/plain": [
              "<matplotlib.axes._subplots.AxesSubplot at 0x7f6da03c3490>"
            ]
          },
          "metadata": {
            "tags": []
          },
          "execution_count": 57
        },
        {
          "output_type": "display_data",
          "data": {
            "image/png": "[encoded data removed]",
            "text/plain": [
              "<Figure size 432x288 with 1 Axes>"
            ]
          },
          "metadata": {
            "tags": [],
            "needs_background": "light"
          }
        }
      ]
    },
    {
      "cell_type": "code",
      "metadata": {
        "colab": {
          "base_uri": "https://localhost:8080/",
          "height": 615
        },
        "id": "ee889d23",
        "outputId": "d81a1cf6-1f1f-486d-b431-db72a83ffc65"
      },
      "source": [
        "columnName = \"Bulatan\"\n",
        "\n",
        "soal2VisualisationDescriptionText = f\"\"\"\n",
        "### {columnName}\n",
        "Distribusi kolom {columnName} tampak seperti distribusi normal. Terdapat outlier pada boxplot.  \n",
        "Standar deviasi berniali cenderung besar.\n",
        "\"\"\"\n",
        "displayMarkdown(soal2VisualisationDescriptionText)\n",
        "\n",
        "plt.hist(dfGandum[columnName])\n",
        "plt.show()\n",
        "dfGandum.boxplot(columnName)"
      ],
      "id": "ee889d23",
      "execution_count": 58,
      "outputs": [
        {
          "output_type": "display_data",
          "data": {
            "text/markdown": "\n### Bulatan\nDistribusi kolom Bulatan tampak seperti distribusi normal. Terdapat outlier pada boxplot.  \nStandar deviasi berniali cenderung besar.\n",
            "text/plain": [
              "<IPython.core.display.Markdown object>"
            ]
          },
          "metadata": {
            "tags": []
          }
        },
        {
          "output_type": "display_data",
          "data": {
            "image/png": "[encoded data removed]",
            "text/plain": [
              "<Figure size 432x288 with 1 Axes>"
            ]
          },
          "metadata": {
            "tags": [],
            "needs_background": "light"
          }
        },
        {
          "output_type": "execute_result",
          "data": {
            "text/plain": [
              "<matplotlib.axes._subplots.AxesSubplot at 0x7f6da0337290>"
            ]
          },
          "metadata": {
            "tags": []
          },
          "execution_count": 58
        },
        {
          "output_type": "display_data",
          "data": {
            "image/png": "[encoded data removed]",
            "text/plain": [
              "<Figure size 432x288 with 1 Axes>"
            ]
          },
          "metadata": {
            "tags": [],
            "needs_background": "light"
          }
        }
      ]
    },
    {
      "cell_type": "code",
      "metadata": {
        "colab": {
          "base_uri": "https://localhost:8080/",
          "height": 597
        },
        "id": "436596e4",
        "outputId": "01315616-b5eb-49b5-8bbb-9107fbcb453a"
      },
      "source": [
        "columnName = \"Ransum\"\n",
        "\n",
        "soal2VisualisationDescriptionText = f\"\"\"\n",
        "### {columnName}\n",
        "Distribusi kolom {columnName} adalah cenderung distribusi half-normal terbalik. Tidak terdapat outlier pada boxplot\n",
        "\"\"\"\n",
        "displayMarkdown(soal2VisualisationDescriptionText)\n",
        "\n",
        "plt.hist(dfGandum[columnName])\n",
        "plt.show()\n",
        "dfGandum.boxplot(columnName)"
      ],
      "id": "436596e4",
      "execution_count": 59,
      "outputs": [
        {
          "output_type": "display_data",
          "data": {
            "text/markdown": "\n### Ransum\nDistribusi kolom Ransum adalah cenderung distribusi half-normal terbalik. Tidak terdapat outlier pada boxplot\n",
            "text/plain": [
              "<IPython.core.display.Markdown object>"
            ]
          },
          "metadata": {
            "tags": []
          }
        },
        {
          "output_type": "display_data",
          "data": {
            "image/png": "[encoded data removed]",
            "text/plain": [
              "<Figure size 432x288 with 1 Axes>"
            ]
          },
          "metadata": {
            "tags": [],
            "needs_background": "light"
          }
        },
        {
          "output_type": "execute_result",
          "data": {
            "text/plain": [
              "<matplotlib.axes._subplots.AxesSubplot at 0x7f6da13f4710>"
            ]
          },
          "metadata": {
            "tags": []
          },
          "execution_count": 59
        },
        {
          "output_type": "display_data",
          "data": {
            "image/png": "[encoded data removed]",
            "text/plain": [
              "<Figure size 432x288 with 1 Axes>"
            ]
          },
          "metadata": {
            "tags": [],
            "needs_background": "light"
          }
        }
      ]
    },
    {
      "cell_type": "code",
      "metadata": {
        "colab": {
          "base_uri": "https://localhost:8080/",
          "height": 597
        },
        "id": "a79eed45",
        "outputId": "c34f0cef-790d-403a-f8f5-5972c101cdba"
      },
      "source": [
        "columnName = \"Target\"\n",
        "\n",
        "soal2VisualisationDescriptionText = f\"\"\"\n",
        "### {columnName}\n",
        "Distribusi kolom {columnName} adalah distribusi diskrit Bernoulli\n",
        "\"\"\"\n",
        "displayMarkdown(soal2VisualisationDescriptionText)\n",
        "\n",
        "plt.hist(dfGandum[columnName])\n",
        "plt.show()\n",
        "dfGandum.boxplot(columnName)"
      ],
      "id": "a79eed45",
      "execution_count": 60,
      "outputs": [
        {
          "output_type": "display_data",
          "data": {
            "text/markdown": "\n### Target\nDistribusi kolom Target adalah distribusi diskrit Bernoulli\n",
            "text/plain": [
              "<IPython.core.display.Markdown object>"
            ]
          },
          "metadata": {
            "tags": []
          }
        },
        {
          "output_type": "display_data",
          "data": {
            "image/png": "[encoded data removed]",
            "text/plain": [
              "<Figure size 432x288 with 1 Axes>"
            ]
          },
          "metadata": {
            "tags": [],
            "needs_background": "light"
          }
        },
        {
          "output_type": "execute_result",
          "data": {
            "text/plain": [
              "<matplotlib.axes._subplots.AxesSubplot at 0x7f6da061c210>"
            ]
          },
          "metadata": {
            "tags": []
          },
          "execution_count": 60
        },
        {
          "output_type": "display_data",
          "data": {
            "image/png": "[encoded data removed]",
            "text/plain": [
              "<Figure size 432x288 with 1 Axes>"
            ]
          },
          "metadata": {
            "tags": [],
            "needs_background": "light"
          }
        }
      ]
    },
    {
      "cell_type": "code",
      "metadata": {
        "colab": {
          "base_uri": "https://localhost:8080/",
          "height": 90
        },
        "id": "870a21c0",
        "outputId": "16626893-2eb6-4932-fcdd-8f3a0967adf0"
      },
      "source": [
        "soal3Text = \"\"\"\n",
        "## Soal 3\n",
        "Menentukan setiap kolom numerik berdistribusi normal atau tidak. Gunakan normality test yang dikaitkan dengan histogram plot.\n",
        "\"\"\"\n",
        "\n",
        "displayMarkdown(soal3Text)"
      ],
      "id": "870a21c0",
      "execution_count": 61,
      "outputs": [
        {
          "output_type": "display_data",
          "data": {
            "text/markdown": "\n## Soal 3\nMenentukan setiap kolom numerik berdistribusi normal atau tidak. Gunakan normality test yang dikaitkan dengan histogram plot.\n",
            "text/plain": [
              "<IPython.core.display.Markdown object>"
            ]
          },
          "metadata": {
            "tags": []
          }
        }
      ]
    },
    {
      "cell_type": "code",
      "metadata": {
        "colab": {
          "base_uri": "https://localhost:8080/",
          "height": 1000
        },
        "id": "ee4759d2",
        "outputId": "785da548-2a62-4643-814f-ac168e66f903"
      },
      "source": [
        "for columnName in columnNamesGandum:\n",
        "    # normality test\n",
        "    alpha = 0.05\n",
        "    stat, p = normaltest(dfGandum[columnName])\n",
        "    \n",
        "    columnNormalDistrubutionSoal3Text = f\"\"\"\n",
        "### {columnName}\n",
        "stat = {stat:.4f}  \n",
        "p = {p:.4f}  \n",
        "alpha = {alpha:.4f}  \n",
        "Kolom {columnName} {\"\" if p > alpha else \"tidak \"}berdistribusi normal\n",
        "    \"\"\"\n",
        "    \n",
        "    displayMarkdown(columnNormalDistrubutionSoal3Text)\n",
        "    \n",
        "    # visualize hist\n",
        "    plt.subplots()\n",
        "    dfGandum[columnName].plot.hist(\n",
        "        rwidth = 0.80,\n",
        "        bins = 15,\n",
        "        density = \"True\"\n",
        "    )\n",
        "    dfGandum[columnName].plot.kde()\n",
        "    plt.title(columnName)\n",
        "    plt.xlabel(\"value\")\n",
        "    plt.show()"
      ],
      "id": "ee4759d2",
      "execution_count": 62,
      "outputs": [
        {
          "output_type": "display_data",
          "data": {
            "text/markdown": "\n### ID\nstat = 317.4439  \np = 0.0000  \nalpha = 0.0500  \nKolom ID tidak berdistribusi normal\n    ",
            "text/plain": [
              "<IPython.core.display.Markdown object>"
            ]
          },
          "metadata": {
            "tags": []
          }
        },
        {
          "output_type": "display_data",
          "data": {
            "image/png": "[encoded data removed]",
            "text/plain": [
              "<Figure size 432x288 with 1 Axes>"
            ]
          },
          "metadata": {
            "tags": [],
            "needs_background": "light"
          }
        },
        {
          "output_type": "display_data",
          "data": {
            "text/markdown": "\n### Daerah\nstat = 10.8586  \np = 0.0044  \nalpha = 0.0500  \nKolom Daerah tidak berdistribusi normal\n    ",
            "text/plain": [
              "<IPython.core.display.Markdown object>"
            ]
          },
          "metadata": {
            "tags": []
          }
        },
        {
          "output_type": "display_data",
          "data": {
            "image/png": "[encoded data removed]",
            "text/plain": [
              "<Figure size 432x288 with 1 Axes>"
            ]
          },
          "metadata": {
            "tags": [],
            "needs_background": "light"
          }
        },
        {
          "output_type": "display_data",
          "data": {
            "text/markdown": "\n### SumbuUtama\nstat = 95.1201  \np = 0.0000  \nalpha = 0.0500  \nKolom SumbuUtama tidak berdistribusi normal\n    ",
            "text/plain": [
              "<IPython.core.display.Markdown object>"
            ]
          },
          "metadata": {
            "tags": []
          }
        },
        {
          "output_type": "display_data",
          "data": {
            "image/png": "[encoded data removed]",
            "text/plain": [
              "<Figure size 432x288 with 1 Axes>"
            ]
          },
          "metadata": {
            "tags": [],
            "needs_background": "light"
          }
        },
        {
          "output_type": "display_data",
          "data": {
            "text/markdown": "\n### SumbuKecil\nstat = 3.6984  \np = 0.1574  \nalpha = 0.0500  \nKolom SumbuKecil berdistribusi normal\n    ",
            "text/plain": [
              "<IPython.core.display.Markdown object>"
            ]
          },
          "metadata": {
            "tags": []
          }
        },
        {
          "output_type": "display_data",
          "data": {
            "image/png": "[encoded data removed]",
            "text/plain": [
              "<Figure size 432x288 with 1 Axes>"
            ]
          },
          "metadata": {
            "tags": [],
            "needs_background": "light"
          }
        },
        {
          "output_type": "display_data",
          "data": {
            "text/markdown": "\n### Keunikan\nstat = 158.6174  \np = 0.0000  \nalpha = 0.0500  \nKolom Keunikan tidak berdistribusi normal\n    ",
            "text/plain": [
              "<IPython.core.display.Markdown object>"
            ]
          },
          "metadata": {
            "tags": []
          }
        },
        {
          "output_type": "display_data",
          "data": {
            "image/png": "[encoded data removed]",
            "text/plain": [
              "<Figure size 432x288 with 1 Axes>"
            ]
          },
          "metadata": {
            "tags": [],
            "needs_background": "light"
          }
        },
        {
          "output_type": "display_data",
          "data": {
            "text/markdown": "\n### AreaBulatan\nstat = 10.7387  \np = 0.0047  \nalpha = 0.0500  \nKolom AreaBulatan tidak berdistribusi normal\n    ",
            "text/plain": [
              "<IPython.core.display.Markdown object>"
            ]
          },
          "metadata": {
            "tags": []
          }
        },
        {
          "output_type": "display_data",
          "data": {
            "image/png": "[encoded data removed]",
            "text/plain": [
              "<Figure size 432x288 with 1 Axes>"
            ]
          },
          "metadata": {
            "tags": [],
            "needs_background": "light"
          }
        },
        {
          "output_type": "display_data",
          "data": {
            "text/markdown": "\n### Diameter\nstat = 7.4463  \np = 0.0242  \nalpha = 0.0500  \nKolom Diameter tidak berdistribusi normal\n    ",
            "text/plain": [
              "<IPython.core.display.Markdown object>"
            ]
          },
          "metadata": {
            "tags": []
          }
        },
        {
          "output_type": "display_data",
          "data": {
            "image/png": "[encoded data removed]",
            "text/plain": [
              "<Figure size 432x288 with 1 Axes>"
            ]
          },
          "metadata": {
            "tags": [],
            "needs_background": "light"
          }
        },
        {
          "output_type": "display_data",
          "data": {
            "text/markdown": "\n### KadarAir\nstat = 48.7559  \np = 0.0000  \nalpha = 0.0500  \nKolom KadarAir tidak berdistribusi normal\n    ",
            "text/plain": [
              "<IPython.core.display.Markdown object>"
            ]
          },
          "metadata": {
            "tags": []
          }
        },
        {
          "output_type": "display_data",
          "data": {
            "image/png": "[encoded data removed]",
            "text/plain": [
              "<Figure size 432x288 with 1 Axes>"
            ]
          },
          "metadata": {
            "tags": [],
            "needs_background": "light"
          }
        },
        {
          "output_type": "display_data",
          "data": {
            "text/markdown": "\n### Keliling\nstat = 67.4655  \np = 0.0000  \nalpha = 0.0500  \nKolom Keliling tidak berdistribusi normal\n    ",
            "text/plain": [
              "<IPython.core.display.Markdown object>"
            ]
          },
          "metadata": {
            "tags": []
          }
        },
        {
          "output_type": "display_data",
          "data": {
            "image/png": "[encoded data removed]",
            "text/plain": [
              "<Figure size 432x288 with 1 Axes>"
            ]
          },
          "metadata": {
            "tags": [],
            "needs_background": "light"
          }
        },
        {
          "output_type": "display_data",
          "data": {
            "text/markdown": "\n### Bulatan\nstat = 442.1194  \np = 0.0000  \nalpha = 0.0500  \nKolom Bulatan tidak berdistribusi normal\n    ",
            "text/plain": [
              "<IPython.core.display.Markdown object>"
            ]
          },
          "metadata": {
            "tags": []
          }
        },
        {
          "output_type": "display_data",
          "data": {
            "image/png": "[encoded data removed]",
            "text/plain": [
              "<Figure size 432x288 with 1 Axes>"
            ]
          },
          "metadata": {
            "tags": [],
            "needs_background": "light"
          }
        },
        {
          "output_type": "display_data",
          "data": {
            "text/markdown": "\n### Ransum\nstat = 37.0603  \np = 0.0000  \nalpha = 0.0500  \nKolom Ransum tidak berdistribusi normal\n    ",
            "text/plain": [
              "<IPython.core.display.Markdown object>"
            ]
          },
          "metadata": {
            "tags": []
          }
        },
        {
          "output_type": "display_data",
          "data": {
            "image/png": "[encoded data removed]",
            "text/plain": [
              "<Figure size 432x288 with 1 Axes>"
            ]
          },
          "metadata": {
            "tags": [],
            "needs_background": "light"
          }
        },
        {
          "output_type": "display_data",
          "data": {
            "text/markdown": "\n### Target\nstat = 2069.9954  \np = 0.0000  \nalpha = 0.0500  \nKolom Target tidak berdistribusi normal\n    ",
            "text/plain": [
              "<IPython.core.display.Markdown object>"
            ]
          },
          "metadata": {
            "tags": []
          }
        },
        {
          "output_type": "display_data",
          "data": {
            "image/png": "[encoded data removed]",
            "text/plain": [
              "<Figure size 432x288 with 1 Axes>"
            ]
          },
          "metadata": {
            "tags": [],
            "needs_background": "light"
          }
        }
      ]
    },
    {
      "cell_type": "code",
      "metadata": {
        "colab": {
          "base_uri": "https://localhost:8080/",
          "height": 90
        },
        "id": "b36c2f2e",
        "outputId": "384c5271-8caf-4e61-dd4d-b0ef0c316603"
      },
      "source": [
        "soal4Text = f\"\"\"\n",
        "## Soal 4\n",
        "Melakukan test hipotesis 1 sampel, dengan menuliskan 6 langkah testing dan menampilkan juga boxplotnya untuk kolom/bagian yang bersesuaian.\n",
        "\n",
        "\"\"\"\n",
        "\n",
        "displayMarkdown(soal4Text)\n"
      ],
      "id": "b36c2f2e",
      "execution_count": 63,
      "outputs": [
        {
          "output_type": "display_data",
          "data": {
            "text/markdown": "\n## Soal 4\nMelakukan test hipotesis 1 sampel, dengan menuliskan 6 langkah testing dan menampilkan juga boxplotnya untuk kolom/bagian yang bersesuaian.\n\n",
            "text/plain": [
              "<IPython.core.display.Markdown object>"
            ]
          },
          "metadata": {
            "tags": []
          }
        }
      ]
    },
    {
      "cell_type": "code",
      "metadata": {
        "colab": {
          "base_uri": "https://localhost:8080/",
          "height": 930
        },
        "id": "e4eb9ad5",
        "outputId": "4a537888-e615-46e2-c236-f50d95a2b141"
      },
      "source": [
        "# mengambil sample\n",
        "nSample = len(dfGandum) // 2\n",
        "sampleDfGandum = dfGandum.sample(nSample)\n",
        "\n",
        "columnName = \"Daerah\"\n",
        "\n",
        "# 1. Hipotesis  nol\n",
        "hipotesisNol = \"rata-rata Daerah = 4700\"\n",
        "\n",
        "# 2. Hipotesis alternatif\n",
        "hipotesisAlternatif = \"rata-rata Daerah > 4700\"\n",
        "\n",
        "# 3. Tingkat signifikan alpha\n",
        "alpha = 0.05\n",
        "\n",
        "# 4. Uji statistik dan daerah kritis\n",
        "nilaiKritis = norm.ppf(1 - alpha)\n",
        "daerahKritis = f\"Z > {nilaiKritis:.4f}\"\n",
        "\n",
        "# 5. Nilai uji statistik dan p-value\n",
        "meanSample = sampleDfGandum[columnName].mean()\n",
        "meanPopulasi = dfGandum[columnName].mean()\n",
        "stdPopulasi = dfGandum[columnName].std()\n",
        "\n",
        "Z = (meanSample - meanPopulasi) / (stdPopulasi / math.sqrt(nSample))\n",
        "\n",
        "pValue = 1 - norm.cdf(Z)\n",
        "\n",
        "# 6. Keputusan\n",
        "tolakHipotesisNolZ = Z > nilaiKritis\n",
        "tolakHipotesisNolP = pValue < alpha\n",
        "\n",
        "tolakHipotesisNolZText = f\"Daerah kritis = {daerahKritis}, dan Z = {Z}, maka {'' if tolakHipotesisNolZ else 'gagal '} tolak H0  \"\n",
        "tolakHipotesisNolPText = f\"α = {alpha}, dan p-value = {pValue}, maka {'' if tolakHipotesisNolP else 'gagal '} tolak H0  \"\n",
        "\n",
        "\n",
        "soal4aText = f\"\"\"\n",
        "### Soal 4.a\n",
        "Nilai rata-rata Daerah di atas 4700?  \n",
        "\n",
        "#### Enam langkah testing\n",
        "##### 1. Tentukan Hipotesis nol (H0: θ = θ0), dimana θ bisa berupa μ, σ^2, p, atau data lain  \n",
        "##### berdistribusi tertentu (normal, binomial, dsc.).  \n",
        "\n",
        "H0 : {hipotesisNol}  \n",
        "  \n",
        "##### 2. Pilih hipotesis alternatif H1 salah dari dari θ > θ0, θ < θ0, atau θ ≠ θ0  \n",
        "\n",
        "H1 : {hipotesisAlternatif}  \n",
        "  \n",
        "##### 3. Tentukan tingkat signifikan α.  \n",
        "\n",
        "α = {alpha}  \n",
        "  \n",
        "##### 4. Tentukan uji statistik yang sesuai dan tentukan daerah kritis.  \n",
        "  \n",
        "Nilai kritisnya adalah {nilaiKritis:.4f}  \n",
        "Maka daerah kritisnya adalah {daerahKritis}\n",
        "  \n",
        "##### 5. Hitung nilai uji statistik dari data sample. Hitung p-value sesuai dengan uji statistik yang digunakan.  \n",
        "\n",
        "Rataan sample = {meanSample:.4f}  \n",
        "Rataan populasi = {meanPopulasi:.4f}  \n",
        "Standar deviasi populasi = {stdPopulasi:.4f}  \n",
        "Jumlah sample = {nSample}  \n",
        "\n",
        "Z = {Z:.4f}  \n",
        "  \n",
        "p-value = P(Z > {Z:.4f}) = 1 - P(Z < {Z:.4f}) = {pValue}  \n",
        "  \n",
        "##### 6. Ambil keputusan dengan TOLAK H0 jika nilai uji terletak di daerah kritis atau dengan tes  \n",
        "##### signifikan, TOLAK H0 jika p-value lebih kecil dibanding tingkat signifikansi α yang diinginkan  \n",
        "\n",
        "{tolakHipotesisNolZText}  \n",
        "{tolakHipotesisNolPText}  \n",
        "\n",
        "\"\"\"\n",
        "\n",
        "displayMarkdown(soal4aText)\n",
        "\n",
        "sampleDfGandum.boxplot(columnName)"
      ],
      "id": "e4eb9ad5",
      "execution_count": 64,
      "outputs": [
        {
          "output_type": "display_data",
          "data": {
            "text/markdown": "\n### Soal 4.a\nNilai rata-rata Daerah di atas 4700?  \n\n#### Enam langkah testing\n##### 1. Tentukan Hipotesis nol (H0: θ = θ0), dimana θ bisa berupa μ, σ^2, p, atau data lain  \n##### berdistribusi tertentu (normal, binomial, dsc.).  \n\nH0 : rata-rata Daerah = 4700  \n  \n##### 2. Pilih hipotesis alternatif H1 salah dari dari θ > θ0, θ < θ0, atau θ ≠ θ0  \n\nH1 : rata-rata Daerah > 4700  \n  \n##### 3. Tentukan tingkat signifikan α.  \n\nα = 0.05  \n  \n##### 4. Tentukan uji statistik yang sesuai dan tentukan daerah kritis.  \n  \nNilai kritisnya adalah 1.6449  \nMaka daerah kritisnya adalah Z > 1.6449\n  \n##### 5. Hitung nilai uji statistik dari data sample. Hitung p-value sesuai dengan uji statistik yang digunakan.  \n\nRataan sample = 4851.7600  \nRataan populasi = 4801.2460  \nStandar deviasi populasi = 986.3955  \nJumlah sample = 250  \n\nZ = 0.8097  \n  \np-value = P(Z > 0.8097) = 1 - P(Z < 0.8097) = 0.20905280077872268  \n  \n##### 6. Ambil keputusan dengan TOLAK H0 jika nilai uji terletak di daerah kritis atau dengan tes  \n##### signifikan, TOLAK H0 jika p-value lebih kecil dibanding tingkat signifikansi α yang diinginkan  \n\nDaerah kritis = Z > 1.6449, dan Z = 0.809712205222125, maka gagal  tolak H0    \nα = 0.05, dan p-value = 0.20905280077872268, maka gagal  tolak H0    \n\n",
            "text/plain": [
              "<IPython.core.display.Markdown object>"
            ]
          },
          "metadata": {
            "tags": []
          }
        },
        {
          "output_type": "execute_result",
          "data": {
            "text/plain": [
              "<matplotlib.axes._subplots.AxesSubplot at 0x7f6da04894d0>"
            ]
          },
          "metadata": {
            "tags": []
          },
          "execution_count": 64
        },
        {
          "output_type": "display_data",
          "data": {
            "image/png": "[encoded data removed]",
            "text/plain": [
              "<Figure size 432x288 with 1 Axes>"
            ]
          },
          "metadata": {
            "tags": [],
            "needs_background": "light"
          }
        }
      ]
    },
    {
      "cell_type": "code",
      "metadata": {
        "colab": {
          "base_uri": "https://localhost:8080/",
          "height": 930
        },
        "id": "1be571b0",
        "outputId": "b8fdb6c7-4a0c-4dee-9104-9f8820b825d1"
      },
      "source": [
        "# mengambil sample\n",
        "nSample = len(dfGandum) // 2\n",
        "sampleDfGandum = dfGandum.sample(nSample)\n",
        "\n",
        "columnName = \"SumbuUtama\"\n",
        "\n",
        "# 1. Hipotesis  nol\n",
        "hipotesisNol = \"rata-rata SumbuUtama = 116\"\n",
        "\n",
        "# 2. Hipotesis alternatif\n",
        "hipotesisAlternatif = \"rata-rata SumbuUtama != 116\"\n",
        "\n",
        "# 3. Tingkat signifikan alpha\n",
        "alpha = 0.05 / 2\n",
        "\n",
        "# 4. Uji statistik dan daerah kritis\n",
        "nilaiKritis = norm.ppf(1 - alpha)\n",
        "daerahKritis = f\"Z > {nilaiKritis:.4f} atau Z < -{nilaiKritis:.4f}\"\n",
        "\n",
        "# 5. Nilai uji statistik dan p-value\n",
        "meanSample = sampleDfGandum[columnName].mean()\n",
        "meanPopulasi = dfGandum[columnName].mean()\n",
        "stdPopulasi = dfGandum[columnName].std()\n",
        "\n",
        "Z = (meanSample - meanPopulasi) / (stdPopulasi / math.sqrt(nSample))\n",
        "\n",
        "pValue = 1 - norm.sf(Z) * 2\n",
        "\n",
        "# 6. Keputusan\n",
        "tolakHipotesisNolZ = Z > nilaiKritis or Z < -1 * nilaiKritis\n",
        "tolakHipotesisNolP = pValue < alpha\n",
        "\n",
        "tolakHipotesisNolZText = f\"Daerah kritis = {daerahKritis}, dan Z = {Z}, maka {'' if tolakHipotesisNolZ else 'gagal '} tolak H0  \"\n",
        "tolakHipotesisNolPText = f\"α = {alpha}, dan p-value = {pValue}, maka {'' if tolakHipotesisNolP else 'gagal '} tolak H0  \"\n",
        "\n",
        "soal4bText = f\"\"\"\n",
        "### Soal 4.b\n",
        "Nilai Rata-rata Sumbu Utama tidak sama dengan 116?  \n",
        "\n",
        "#### Enam langkah testing\n",
        "##### 1. Tentukan Hipotesis nol (H0: θ = θ0), dimana θ bisa berupa μ, σ^2, p, atau data lain  \n",
        "##### berdistribusi tertentu (normal, binomial, dsc.).  \n",
        "\n",
        "H0 : {hipotesisNol}  \n",
        "  \n",
        "##### 2. Pilih hipotesis alternatif H1 salah dari dari θ > θ0, θ < θ0, atau θ ≠ θ0  \n",
        "\n",
        "H1 : {hipotesisAlternatif}  \n",
        "  \n",
        "##### 3. Tentukan tingkat signifikan α.  \n",
        "\n",
        "α = {alpha}  \n",
        "  \n",
        "##### 4. Tentukan uji statistik yang sesuai dan tentukan daerah kritis.  \n",
        "  \n",
        "Nilai kritisnya adalah {nilaiKritis:.4f}  \n",
        "Maka daerah kritisnya adalah {daerahKritis}\n",
        "  \n",
        "##### 5. Hitung nilai uji statistik dari data sample. Hitung p-value sesuai dengan uji statistik yang digunakan.  \n",
        "\n",
        "Rataan sample = {meanSample:.4f}  \n",
        "Rataan populasi = {meanPopulasi:.4f}  \n",
        "Standar deviasi populasi = {stdPopulasi:.4f}  \n",
        "Jumlah sample = {nSample}  \n",
        "\n",
        "Z = {Z:.4f}  \n",
        "  \n",
        "p-value = P(Z > {Z:.4f}) = 1 - P(Z < {Z:.4f}) = {pValue}  \n",
        "  \n",
        "##### 6. Ambil keputusan dengan TOLAK H0 jika nilai uji terletak di daerah kritis atau dengan tes  \n",
        "##### signifikan, TOLAK H0 jika p-value lebih kecil dibanding tingkat signifikansi α yang diinginkan  \n",
        "\n",
        "{tolakHipotesisNolZText}  \n",
        "{tolakHipotesisNolPText}  \n",
        "\n",
        "\"\"\"\n",
        "\n",
        "displayMarkdown(soal4bText)\n",
        "\n",
        "sampleDfGandum.boxplot(columnName)"
      ],
      "id": "1be571b0",
      "execution_count": 65,
      "outputs": [
        {
          "output_type": "display_data",
          "data": {
            "text/markdown": "\n### Soal 4.b\nNilai Rata-rata Sumbu Utama tidak sama dengan 116?  \n\n#### Enam langkah testing\n##### 1. Tentukan Hipotesis nol (H0: θ = θ0), dimana θ bisa berupa μ, σ^2, p, atau data lain  \n##### berdistribusi tertentu (normal, binomial, dsc.).  \n\nH0 : rata-rata SumbuUtama = 116  \n  \n##### 2. Pilih hipotesis alternatif H1 salah dari dari θ > θ0, θ < θ0, atau θ ≠ θ0  \n\nH1 : rata-rata SumbuUtama != 116  \n  \n##### 3. Tentukan tingkat signifikan α.  \n\nα = 0.025  \n  \n##### 4. Tentukan uji statistik yang sesuai dan tentukan daerah kritis.  \n  \nNilai kritisnya adalah 1.9600  \nMaka daerah kritisnya adalah Z > 1.9600 atau Z < -1.9600\n  \n##### 5. Hitung nilai uji statistik dari data sample. Hitung p-value sesuai dengan uji statistik yang digunakan.  \n\nRataan sample = 115.7530  \nRataan populasi = 116.0452  \nStandar deviasi populasi = 18.2826  \nJumlah sample = 250  \n\nZ = -0.2527  \n  \np-value = P(Z > -0.2527) = 1 - P(Z < -0.2527) = -0.19950892915359475  \n  \n##### 6. Ambil keputusan dengan TOLAK H0 jika nilai uji terletak di daerah kritis atau dengan tes  \n##### signifikan, TOLAK H0 jika p-value lebih kecil dibanding tingkat signifikansi α yang diinginkan  \n\nDaerah kritis = Z > 1.9600 atau Z < -1.9600, dan Z = -0.25271161609122833, maka gagal  tolak H0    \nα = 0.025, dan p-value = -0.19950892915359475, maka  tolak H0    \n\n",
            "text/plain": [
              "<IPython.core.display.Markdown object>"
            ]
          },
          "metadata": {
            "tags": []
          }
        },
        {
          "output_type": "execute_result",
          "data": {
            "text/plain": [
              "<matplotlib.axes._subplots.AxesSubplot at 0x7f6da0565990>"
            ]
          },
          "metadata": {
            "tags": []
          },
          "execution_count": 65
        },
        {
          "output_type": "display_data",
          "data": {
            "image/png": "[encoded data removed]",
            "text/plain": [
              "<Figure size 432x288 with 1 Axes>"
            ]
          },
          "metadata": {
            "tags": [],
            "needs_background": "light"
          }
        }
      ]
    },
    {
      "cell_type": "code",
      "metadata": {
        "colab": {
          "base_uri": "https://localhost:8080/",
          "height": 930
        },
        "id": "b9fe262c",
        "outputId": "c1f5e8aa-2200-40eb-b416-fc8d03761b44"
      },
      "source": [
        "# mengambil sample\n",
        "nSample = 20\n",
        "sampleDfGandum = dfGandum.head(20)\n",
        "\n",
        "columnName = \"SumbuKecil\"\n",
        "\n",
        "# 1. Hipotesis  nol\n",
        "hipotesisNol = \"rata-rata 20 baris pertama SumbuKecil = 50\"\n",
        "\n",
        "# 2. Hipotesis alternatif\n",
        "hipotesisAlternatif = \"rata-rata 20 baris pertama SumbuKecil != 50\"\n",
        "\n",
        "# 3. Tingkat signifikan alpha\n",
        "alpha = 0.05 / 2\n",
        "\n",
        "# 4. Uji statistik dan daerah kritis\n",
        "nilaiKritis = norm.ppf(1 - alpha)\n",
        "daerahKritis = f\"Z > {nilaiKritis:.4f} atau Z < {-1 * nilaiKritis:.4f}\"\n",
        "\n",
        "# 5. Nilai uji statistik dan p-value\n",
        "meanSample = sampleDfGandum[columnName].mean()\n",
        "meanPopulasi = dfGandum[columnName].mean()\n",
        "stdPopulasi = dfGandum[columnName].std()\n",
        "\n",
        "Z = (meanSample - meanPopulasi) / (stdPopulasi / math.sqrt(nSample))\n",
        "\n",
        "pValue = 1 - norm.sf(Z) * 2\n",
        "\n",
        "# 6. Keputusan\n",
        "tolakHipotesisNolZ = Z > nilaiKritis or Z < -1 * nilaiKritis\n",
        "tolakHipotesisNolP = pValue < alpha\n",
        "\n",
        "tolakHipotesisNolZText = f\"Daerah kritis = {daerahKritis}, dan Z = {Z}, maka {'' if tolakHipotesisNolZ else 'gagal '} tolak H0  \"\n",
        "tolakHipotesisNolPText = f\"α = {alpha}, dan p-value = {pValue}, maka {'' if tolakHipotesisNolP else 'gagal '} tolak H0  \"\n",
        "\n",
        "soal4cText = f\"\"\"\n",
        "### Soal 4.c\n",
        "Nilai Rata-rata 20 baris pertama kolom Sumbu Kecil bukan 50?  \n",
        "\n",
        "#### Enam langkah testing\n",
        "##### 1. Tentukan Hipotesis nol (H0: θ = θ0), dimana θ bisa berupa μ, σ^2, p, atau data lain  \n",
        "##### berdistribusi tertentu (normal, binomial, dsc.).  \n",
        "\n",
        "H0 : {hipotesisNol}  \n",
        "  \n",
        "##### 2. Pilih hipotesis alternatif H1 salah dari dari θ > θ0, θ < θ0, atau θ ≠ θ0  \n",
        "\n",
        "H1 : {hipotesisAlternatif}  \n",
        "  \n",
        "##### 3. Tentukan tingkat signifikan α.  \n",
        "\n",
        "α = {alpha}  \n",
        "  \n",
        "##### 4. Tentukan uji statistik yang sesuai dan tentukan daerah kritis.  \n",
        "  \n",
        "Nilai kritisnya adalah {nilaiKritis:.4f}  \n",
        "Maka daerah kritisnya adalah {daerahKritis}\n",
        "  \n",
        "##### 5. Hitung nilai uji statistik dari data sample. Hitung p-value sesuai dengan uji statistik yang digunakan.  \n",
        "\n",
        "Rataan sample = {meanSample:.4f}  \n",
        "Rataan populasi = {meanPopulasi:.4f}  \n",
        "Standar deviasi populasi = {stdPopulasi:.4f}  \n",
        "Jumlah sample = {nSample}  \n",
        "\n",
        "Z = {Z:.4f}  \n",
        "  \n",
        "p-value = P(Z > {Z:.4f}) = 1 - P(Z < {Z:.4f}) = {pValue}  \n",
        "  \n",
        "##### 6. Ambil keputusan dengan TOLAK H0 jika nilai uji terletak di daerah kritis atau dengan tes  \n",
        "##### signifikan, TOLAK H0 jika p-value lebih kecil dibanding tingkat signifikansi α yang diinginkan  \n",
        "\n",
        "{tolakHipotesisNolZText}  \n",
        "{tolakHipotesisNolPText}  \n",
        "\n",
        "\"\"\"\n",
        "\n",
        "displayMarkdown(soal4cText)\n",
        "\n",
        "sampleDfGandum.boxplot(columnName)"
      ],
      "id": "b9fe262c",
      "execution_count": 66,
      "outputs": [
        {
          "output_type": "display_data",
          "data": {
            "text/markdown": "\n### Soal 4.c\nNilai Rata-rata 20 baris pertama kolom Sumbu Kecil bukan 50?  \n\n#### Enam langkah testing\n##### 1. Tentukan Hipotesis nol (H0: θ = θ0), dimana θ bisa berupa μ, σ^2, p, atau data lain  \n##### berdistribusi tertentu (normal, binomial, dsc.).  \n\nH0 : rata-rata 20 baris pertama SumbuKecil = 50  \n  \n##### 2. Pilih hipotesis alternatif H1 salah dari dari θ > θ0, θ < θ0, atau θ ≠ θ0  \n\nH1 : rata-rata 20 baris pertama SumbuKecil != 50  \n  \n##### 3. Tentukan tingkat signifikan α.  \n\nα = 0.025  \n  \n##### 4. Tentukan uji statistik yang sesuai dan tentukan daerah kritis.  \n  \nNilai kritisnya adalah 1.9600  \nMaka daerah kritisnya adalah Z > 1.9600 atau Z < -1.9600\n  \n##### 5. Hitung nilai uji statistik dari data sample. Hitung p-value sesuai dengan uji statistik yang digunakan.  \n\nRataan sample = 54.8873  \nRataan populasi = 53.7152  \nStandar deviasi populasi = 4.0711  \nJumlah sample = 20  \n\nZ = 1.2875  \n  \np-value = P(Z > 1.2875) = 1 - P(Z < 1.2875) = 0.8020773613237075  \n  \n##### 6. Ambil keputusan dengan TOLAK H0 jika nilai uji terletak di daerah kritis atau dengan tes  \n##### signifikan, TOLAK H0 jika p-value lebih kecil dibanding tingkat signifikansi α yang diinginkan  \n\nDaerah kritis = Z > 1.9600 atau Z < -1.9600, dan Z = 1.2874926245250715, maka gagal  tolak H0    \nα = 0.025, dan p-value = 0.8020773613237075, maka gagal  tolak H0    \n\n",
            "text/plain": [
              "<IPython.core.display.Markdown object>"
            ]
          },
          "metadata": {
            "tags": []
          }
        },
        {
          "output_type": "execute_result",
          "data": {
            "text/plain": [
              "<matplotlib.axes._subplots.AxesSubplot at 0x7f6da3abc350>"
            ]
          },
          "metadata": {
            "tags": []
          },
          "execution_count": 66
        },
        {
          "output_type": "display_data",
          "data": {
            "image/png": "[encoded data removed]",
            "text/plain": [
              "<Figure size 432x288 with 1 Axes>"
            ]
          },
          "metadata": {
            "tags": [],
            "needs_background": "light"
          }
        }
      ]
    },
    {
      "cell_type": "code",
      "metadata": {
        "colab": {
          "base_uri": "https://localhost:8080/",
          "height": 854
        },
        "id": "08b480f7",
        "outputId": "758b2a0f-e485-4ac5-881c-94e14a6e368a"
      },
      "source": [
        "# mengambil sample\n",
        "nSample = 250\n",
        "sampleDfGandum = dfGandum.sample(nSample)\n",
        "\n",
        "columnName = \"Diameter\"\n",
        "\n",
        "# 1. Hipotesis  nol\n",
        "hipotesisNol = \"P(X > 85) = 15\"\n",
        "\n",
        "# 2. Hipotesis alternatif\n",
        "hipotesisAlternatif = \"P(X > 85) != 15\"\n",
        "\n",
        "# 3. Tingkat signifikan alpha\n",
        "alpha = 0.05 / 2\n",
        "\n",
        "# 4. Uji statistik dan daerah kritis\n",
        "nilaiKritis = norm.ppf(1 - alpha)\n",
        "daerahKritis = f\"Z > {nilaiKritis:.4f} atau Z < {-1 * nilaiKritis:.4f}\"\n",
        "\n",
        "# 5. Nilai uji statistik dan p-value\n",
        "countDiameterAbove85 = len(sampleDfGandum[columnName].loc[sampleDfGandum[columnName] > 85])\n",
        "\n",
        "Z = ((countDiameterAbove85 / nSample) - 0.15) / math.sqrt(0.15 * 0.85 / nSample)\n",
        "\n",
        "pValue = 1 - norm.sf(Z) * 2\n",
        "\n",
        "# 6. Keputusan\n",
        "tolakHipotesisNolZ = Z > nilaiKritis or Z < -1 * nilaiKritis\n",
        "tolakHipotesisNolP = pValue < alpha\n",
        "\n",
        "tolakHipotesisNolZText = f\"Daerah kritis = {daerahKritis}, dan Z = {Z}, maka {'' if tolakHipotesisNolZ else 'gagal '} tolak H0  \"\n",
        "tolakHipotesisNolPText = f\"α = {alpha}, dan p-value = {pValue}, maka {'' if tolakHipotesisNolP else 'gagal '} tolak H0  \"\n",
        "\n",
        "soal4dText = f\"\"\"\n",
        "### Soal 4.d\n",
        "Proporsi nilai Diameter yang lebih dari 85, adalah tidak sama dengan 15% ?\n",
        "\n",
        "#### Enam langkah testing\n",
        "##### 1. Tentukan Hipotesis nol (H0: θ = θ0), dimana θ bisa berupa μ, σ^2, p, atau data lain  \n",
        "##### berdistribusi tertentu (normal, binomial, dsc.).  \n",
        "\n",
        "H0 : {hipotesisNol}  \n",
        "  \n",
        "##### 2. Pilih hipotesis alternatif H1 salah dari dari θ > θ0, θ < θ0, atau θ ≠ θ0  \n",
        "\n",
        "H1 : {hipotesisAlternatif}  \n",
        "  \n",
        "##### 3. Tentukan tingkat signifikan α.  \n",
        "\n",
        "α = {alpha}  \n",
        "  \n",
        "##### 4. Tentukan uji statistik yang sesuai dan tentukan daerah kritis.  \n",
        "  \n",
        "Nilai kritisnya adalah {nilaiKritis:.4f}  \n",
        "Maka daerah kritisnya adalah {daerahKritis}\n",
        "  \n",
        "##### 5. Hitung nilai uji statistik dari data sample. Hitung p-value sesuai dengan uji statistik yang digunakan.  \n",
        "\n",
        "Z = {Z:.4f}  \n",
        "  \n",
        "p-value = P(Z > {Z:.4f}) = 1 - P(Z < {Z:.4f}) = {pValue}  \n",
        "  \n",
        "##### 6. Ambil keputusan dengan TOLAK H0 jika nilai uji terletak di daerah kritis atau dengan tes  \n",
        "##### signifikan, TOLAK H0 jika p-value lebih kecil dibanding tingkat signifikansi α yang diinginkan  \n",
        "\n",
        "{tolakHipotesisNolZText}  \n",
        "{tolakHipotesisNolPText}  \n",
        "\n",
        "\"\"\"\n",
        "\n",
        "displayMarkdown(soal4dText)\n",
        "\n",
        "sampleDfGandum.boxplot(columnName)"
      ],
      "id": "08b480f7",
      "execution_count": 67,
      "outputs": [
        {
          "output_type": "display_data",
          "data": {
            "text/markdown": "\n### Soal 4.d\nProporsi nilai Diameter yang lebih dari 85, adalah tidak sama dengan 15% ?\n\n#### Enam langkah testing\n##### 1. Tentukan Hipotesis nol (H0: θ = θ0), dimana θ bisa berupa μ, σ^2, p, atau data lain  \n##### berdistribusi tertentu (normal, binomial, dsc.).  \n\nH0 : P(X > 85) = 15  \n  \n##### 2. Pilih hipotesis alternatif H1 salah dari dari θ > θ0, θ < θ0, atau θ ≠ θ0  \n\nH1 : P(X > 85) != 15  \n  \n##### 3. Tentukan tingkat signifikan α.  \n\nα = 0.025  \n  \n##### 4. Tentukan uji statistik yang sesuai dan tentukan daerah kritis.  \n  \nNilai kritisnya adalah 1.9600  \nMaka daerah kritisnya adalah Z > 1.9600 atau Z < -1.9600\n  \n##### 5. Hitung nilai uji statistik dari data sample. Hitung p-value sesuai dengan uji statistik yang digunakan.  \n\nZ = 2.3912  \n  \np-value = P(Z > 2.3912) = 1 - P(Z < 2.3912) = 0.98320477688774  \n  \n##### 6. Ambil keputusan dengan TOLAK H0 jika nilai uji terletak di daerah kritis atau dengan tes  \n##### signifikan, TOLAK H0 jika p-value lebih kecil dibanding tingkat signifikansi α yang diinginkan  \n\nDaerah kritis = Z > 1.9600 atau Z < -1.9600, dan Z = 2.391160190958257, maka  tolak H0    \nα = 0.025, dan p-value = 0.98320477688774, maka gagal  tolak H0    \n\n",
            "text/plain": [
              "<IPython.core.display.Markdown object>"
            ]
          },
          "metadata": {
            "tags": []
          }
        },
        {
          "output_type": "execute_result",
          "data": {
            "text/plain": [
              "<matplotlib.axes._subplots.AxesSubplot at 0x7f6da13f5510>"
            ]
          },
          "metadata": {
            "tags": []
          },
          "execution_count": 67
        },
        {
          "output_type": "display_data",
          "data": {
            "image/png": "[encoded data removed]",
            "text/plain": [
              "<Figure size 432x288 with 1 Axes>"
            ]
          },
          "metadata": {
            "tags": [],
            "needs_background": "light"
          }
        }
      ]
    },
    {
      "cell_type": "code",
      "metadata": {
        "colab": {
          "base_uri": "https://localhost:8080/",
          "height": 854
        },
        "id": "c29f37ae",
        "outputId": "7a1fa06f-6a0e-440d-a8e9-ae37e194fd94"
      },
      "source": [
        "# mengambil sample\n",
        "nSample = 250\n",
        "sampleDfGandum = dfGandum.sample(nSample)\n",
        "\n",
        "columnName = \"Keliling\"\n",
        "\n",
        "# 1. Hipotesis  nol\n",
        "hipotesisNol = \"P(X < 100) = 0.05\"\n",
        "\n",
        "# 2. Hipotesis alternatif\n",
        "hipotesisAlternatif = \"P(X < 100) < 0.05\"\n",
        "\n",
        "# 3. Tingkat signifikan alpha\n",
        "alpha = 0.05\n",
        "\n",
        "# 4. Uji statistik dan daerah kritis\n",
        "nilaiKritis = norm.ppf(1 - alpha)\n",
        "daerahKritis = f\"Z > {nilaiKritis:.4f} atau Z < {-1 * nilaiKritis:.4f}\"\n",
        "\n",
        "# 5. Nilai uji statistik dan p-value\n",
        "countKelilingBelow100 = len(sampleDfGandum[columnName].loc[sampleDfGandum[columnName] < 100])\n",
        "\n",
        "Z = ((countKelilingBelow100 / nSample) - 0.05) / math.sqrt(0.05 * 0.95 / nSample)\n",
        "\n",
        "pValue = 1 - norm.sf(Z) * 2\n",
        "\n",
        "# 6. Keputusan\n",
        "tolakHipotesisNolZ = Z < -1 * nilaiKritis\n",
        "tolakHipotesisNolP = pValue < alpha\n",
        "\n",
        "tolakHipotesisNolZText = f\"Daerah kritis = {daerahKritis}, dan Z = {Z}, maka {'' if tolakHipotesisNolZ else 'gagal '} tolak H0  \"\n",
        "tolakHipotesisNolPText = f\"α = {alpha}, dan p-value = {pValue}, maka {'' if tolakHipotesisNolP else 'gagal '} tolak H0  \"\n",
        "\n",
        "soal4eText = f\"\"\"\n",
        "### Soal 4.e\n",
        "Proporsi nilai Keliling yang kurang dari 100, adalah kurang dari 5% ?\n",
        "\n",
        "#### Enam langkah testing\n",
        "##### 1. Tentukan Hipotesis nol (H0: θ = θ0), dimana θ bisa berupa μ, σ^2, p, atau data lain  \n",
        "##### berdistribusi tertentu (normal, binomial, dsc.).  \n",
        "\n",
        "H0 : {hipotesisNol}  \n",
        "  \n",
        "##### 2. Pilih hipotesis alternatif H1 salah dari dari θ > θ0, θ < θ0, atau θ ≠ θ0  \n",
        "\n",
        "H1 : {hipotesisAlternatif}  \n",
        "  \n",
        "##### 3. Tentukan tingkat signifikan α.  \n",
        "\n",
        "α = {alpha}  \n",
        "  \n",
        "##### 4. Tentukan uji statistik yang sesuai dan tentukan daerah kritis.  \n",
        "  \n",
        "Nilai kritisnya adalah {nilaiKritis:.4f}  \n",
        "Maka daerah kritisnya adalah {daerahKritis}\n",
        "  \n",
        "##### 5. Hitung nilai uji statistik dari data sample. Hitung p-value sesuai dengan uji statistik yang digunakan.  \n",
        "\n",
        "Z = {Z:.4f}  \n",
        "  \n",
        "p-value = P(Z > {Z:.4f}) = 1 - P(Z < {Z:.4f}) = {pValue}  \n",
        "  \n",
        "##### 6. Ambil keputusan dengan TOLAK H0 jika nilai uji terletak di daerah kritis atau dengan tes  \n",
        "##### signifikan, TOLAK H0 jika p-value lebih kecil dibanding tingkat signifikansi α yang diinginkan  \n",
        "\n",
        "{tolakHipotesisNolZText}  \n",
        "{tolakHipotesisNolPText}  \n",
        "\n",
        "\"\"\"\n",
        "\n",
        "displayMarkdown(soal4eText)\n",
        "\n",
        "sampleDfGandum.boxplot(columnName)"
      ],
      "id": "c29f37ae",
      "execution_count": 68,
      "outputs": [
        {
          "output_type": "display_data",
          "data": {
            "text/markdown": "\n### Soal 4.e\nProporsi nilai Keliling yang kurang dari 100, adalah kurang dari 5% ?\n\n#### Enam langkah testing\n##### 1. Tentukan Hipotesis nol (H0: θ = θ0), dimana θ bisa berupa μ, σ^2, p, atau data lain  \n##### berdistribusi tertentu (normal, binomial, dsc.).  \n\nH0 : P(X < 100) = 0.05  \n  \n##### 2. Pilih hipotesis alternatif H1 salah dari dari θ > θ0, θ < θ0, atau θ ≠ θ0  \n\nH1 : P(X < 100) < 0.05  \n  \n##### 3. Tentukan tingkat signifikan α.  \n\nα = 0.05  \n  \n##### 4. Tentukan uji statistik yang sesuai dan tentukan daerah kritis.  \n  \nNilai kritisnya adalah 1.6449  \nMaka daerah kritisnya adalah Z > 1.6449 atau Z < -1.6449\n  \n##### 5. Hitung nilai uji statistik dari data sample. Hitung p-value sesuai dengan uji statistik yang digunakan.  \n\nZ = -3.6274  \n  \np-value = P(Z > -3.6274) = 1 - P(Z < -3.6274) = -0.9997136896183174  \n  \n##### 6. Ambil keputusan dengan TOLAK H0 jika nilai uji terletak di daerah kritis atau dengan tes  \n##### signifikan, TOLAK H0 jika p-value lebih kecil dibanding tingkat signifikansi α yang diinginkan  \n\nDaerah kritis = Z > 1.6449 atau Z < -1.6449, dan Z = -3.6273812505500587, maka  tolak H0    \nα = 0.05, dan p-value = -0.9997136896183174, maka  tolak H0    \n\n",
            "text/plain": [
              "<IPython.core.display.Markdown object>"
            ]
          },
          "metadata": {
            "tags": []
          }
        },
        {
          "output_type": "execute_result",
          "data": {
            "text/plain": [
              "<matplotlib.axes._subplots.AxesSubplot at 0x7f6da14a3a90>"
            ]
          },
          "metadata": {
            "tags": []
          },
          "execution_count": 68
        },
        {
          "output_type": "display_data",
          "data": {
            "image/png": "[encoded data removed]",
            "text/plain": [
              "<Figure size 432x288 with 1 Axes>"
            ]
          },
          "metadata": {
            "tags": [],
            "needs_background": "light"
          }
        }
      ]
    },
    {
      "cell_type": "code",
      "metadata": {
        "colab": {
          "base_uri": "https://localhost:8080/",
          "height": 297
        },
        "id": "MZSZZ1XktwlQ",
        "outputId": "7464f4f2-d590-4772-f0c8-d79444eeda75"
      },
      "source": [
        "dfGandum.plot(kind='scatter',x='Daerah',y='Target')\n",
        "print(dfGandum['Daerah'].corr(dfGandum['Target']))"
      ],
      "id": "MZSZZ1XktwlQ",
      "execution_count": 69,
      "outputs": [
        {
          "output_type": "stream",
          "text": [
            "-0.6027466517416661\n"
          ],
          "name": "stdout"
        },
        {
          "output_type": "display_data",
          "data": {
            "image/png": "[encoded data removed]",
            "text/plain": [
              "<Figure size 432x288 with 1 Axes>"
            ]
          },
          "metadata": {
            "tags": [],
            "needs_background": "light"
          }
        }
      ]
    },
    {
      "cell_type": "code",
      "metadata": {
        "colab": {
          "base_uri": "https://localhost:8080/",
          "height": 297
        },
        "id": "N_6WrQhnwKfw",
        "outputId": "af34156f-6846-407b-d78e-107563f8a3ab"
      },
      "source": [
        "dfGandum.plot(kind='scatter',x='SumbuUtama',y='Target')\n",
        "print(dfGandum['SumbuUtama'].corr(dfGandum['Target']))"
      ],
      "id": "N_6WrQhnwKfw",
      "execution_count": 70,
      "outputs": [
        {
          "output_type": "stream",
          "text": [
            "-0.7130906104204592\n"
          ],
          "name": "stdout"
        },
        {
          "output_type": "display_data",
          "data": {
            "image/png": "[encoded data removed]",
            "text/plain": [
              "<Figure size 432x288 with 1 Axes>"
            ]
          },
          "metadata": {
            "tags": [],
            "needs_background": "light"
          }
        }
      ]
    },
    {
      "cell_type": "code",
      "metadata": {
        "colab": {
          "base_uri": "https://localhost:8080/",
          "height": 297
        },
        "id": "wWSrkm0hwMlp",
        "outputId": "a86c0248-4d7c-451f-9bbc-80ce030b5b61"
      },
      "source": [
        "dfGandum.plot(kind='scatter',x='SumbuKecil',y='Target')\n",
        "print(dfGandum['SumbuKecil'].corr(dfGandum['Target']))"
      ],
      "id": "wWSrkm0hwMlp",
      "execution_count": 71,
      "outputs": [
        {
          "output_type": "stream",
          "text": [
            "-0.1529751733553502\n"
          ],
          "name": "stdout"
        },
        {
          "output_type": "display_data",
          "data": {
            "image/png": "[encoded data removed]",
            "text/plain": [
              "<Figure size 432x288 with 1 Axes>"
            ]
          },
          "metadata": {
            "tags": [],
            "needs_background": "light"
          }
        }
      ]
    },
    {
      "cell_type": "code",
      "metadata": {
        "colab": {
          "base_uri": "https://localhost:8080/",
          "height": 297
        },
        "id": "qF2oe08EwP1f",
        "outputId": "3a4f27a8-6e34-452a-928a-41a2cc088a90"
      },
      "source": [
        "dfGandum.plot(kind='scatter',x='Keunikan',y='Target')\n",
        "print(dfGandum['Keunikan'].corr(dfGandum['Target']))"
      ],
      "id": "qF2oe08EwP1f",
      "execution_count": 72,
      "outputs": [
        {
          "output_type": "stream",
          "text": [
            "-0.7304563686511923\n"
          ],
          "name": "stdout"
        },
        {
          "output_type": "display_data",
          "data": {
            "image/png": "[encoded data removed]",
            "text/plain": [
              "<Figure size 432x288 with 1 Axes>"
            ]
          },
          "metadata": {
            "tags": [],
            "needs_background": "light"
          }
        }
      ]
    },
    {
      "cell_type": "code",
      "metadata": {
        "colab": {
          "base_uri": "https://localhost:8080/",
          "height": 297
        },
        "id": "PVdX5S2mwSgM",
        "outputId": "0a026e19-61c6-46e5-e863-d307d87dd427"
      },
      "source": [
        "dfGandum.plot(kind='scatter',x='AreaBulatan',y='Target')\n",
        "print(dfGandum['AreaBulatan'].corr(dfGandum['Target']))"
      ],
      "id": "PVdX5S2mwSgM",
      "execution_count": 73,
      "outputs": [
        {
          "output_type": "stream",
          "text": [
            "-0.6073125434153749\n"
          ],
          "name": "stdout"
        },
        {
          "output_type": "display_data",
          "data": {
            "image/png": "[encoded data removed]",
            "text/plain": [
              "<Figure size 432x288 with 1 Axes>"
            ]
          },
          "metadata": {
            "tags": [],
            "needs_background": "light"
          }
        }
      ]
    },
    {
      "cell_type": "code",
      "metadata": {
        "colab": {
          "base_uri": "https://localhost:8080/",
          "height": 297
        },
        "id": "OaAc1r_KwT4Q",
        "outputId": "9368909c-adb2-4bfc-b223-d7df6bd8ba8c"
      },
      "source": [
        "dfGandum.plot(kind='scatter',x='Diameter',y='Target')\n",
        "print(dfGandum['Diameter'].corr(dfGandum['Target']))"
      ],
      "id": "OaAc1r_KwT4Q",
      "execution_count": 74,
      "outputs": [
        {
          "output_type": "stream",
          "text": [
            "-0.6025356896618809\n"
          ],
          "name": "stdout"
        },
        {
          "output_type": "display_data",
          "data": {
            "image/png": "[encoded data removed]",
            "text/plain": [
              "<Figure size 432x288 with 1 Axes>"
            ]
          },
          "metadata": {
            "tags": [],
            "needs_background": "light"
          }
        }
      ]
    },
    {
      "cell_type": "code",
      "metadata": {
        "colab": {
          "base_uri": "https://localhost:8080/",
          "height": 297
        },
        "id": "R6G5EcdmwVKc",
        "outputId": "639c36a7-e41d-44c1-a707-c14d0d9c2236"
      },
      "source": [
        "dfGandum.plot(kind='scatter',x='KadarAir',y='Target')\n",
        "print(dfGandum['KadarAir'].corr(dfGandum['Target']))"
      ],
      "id": "R6G5EcdmwVKc",
      "execution_count": 75,
      "outputs": [
        {
          "output_type": "stream",
          "text": [
            "0.13434422605727642\n"
          ],
          "name": "stdout"
        },
        {
          "output_type": "display_data",
          "data": {
            "image/png": "[encoded data removed]",
            "text/plain": [
              "<Figure size 432x288 with 1 Axes>"
            ]
          },
          "metadata": {
            "tags": [],
            "needs_background": "light"
          }
        }
      ]
    },
    {
      "cell_type": "code",
      "metadata": {
        "colab": {
          "base_uri": "https://localhost:8080/",
          "height": 297
        },
        "id": "KJxljenowWTA",
        "outputId": "ab0413e5-50f6-45a2-869e-077c1ad5399d"
      },
      "source": [
        "dfGandum.plot(kind='scatter',x='Keliling',y='Target')\n",
        "print(dfGandum['Keliling'].corr(dfGandum['Target']))"
      ],
      "id": "KJxljenowWTA",
      "execution_count": 76,
      "outputs": [
        {
          "output_type": "stream",
          "text": [
            "-0.6348607454756854\n"
          ],
          "name": "stdout"
        },
        {
          "output_type": "display_data",
          "data": {
            "image/png": "[encoded data removed]",
            "text/plain": [
              "<Figure size 432x288 with 1 Axes>"
            ]
          },
          "metadata": {
            "tags": [],
            "needs_background": "light"
          }
        }
      ]
    },
    {
      "cell_type": "code",
      "metadata": {
        "colab": {
          "base_uri": "https://localhost:8080/",
          "height": 297
        },
        "id": "oTW4r34vwX5z",
        "outputId": "f2abd39d-508f-48ae-f405-0d62e4b74364"
      },
      "source": [
        "dfGandum.plot(kind='scatter',x='Bulatan',y='Target')\n",
        "print(dfGandum['Bulatan'].corr(dfGandum['Target']))"
      ],
      "id": "oTW4r34vwX5z",
      "execution_count": 77,
      "outputs": [
        {
          "output_type": "stream",
          "text": [
            "0.5450045317240071\n"
          ],
          "name": "stdout"
        },
        {
          "output_type": "display_data",
          "data": {
            "image/png": "[encoded data removed]",
            "text/plain": [
              "<Figure size 432x288 with 1 Axes>"
            ]
          },
          "metadata": {
            "tags": [],
            "needs_background": "light"
          }
        }
      ]
    }
  ]
}